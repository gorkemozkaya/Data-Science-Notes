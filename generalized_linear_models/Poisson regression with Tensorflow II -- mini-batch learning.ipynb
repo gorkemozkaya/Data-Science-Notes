{
 "cells": [
  {
   "cell_type": "markdown",
   "metadata": {},
   "source": [
    "In this version of the notebook, we use mini-batch learning rather than full batch learning. This may help when we are dealing with very large datasets that wouldn't fit in the device memory.\n",
    "\n",
    "Another change is that we use the [FtrlOptimizer](https://static.googleusercontent.com/media/research.google.com/en//pubs/archive/41159.pdf) (*follow the regularized leader*) algorithm for optimization. This algorithm is a coordinate-descent type algorithm and it works better with the mini-batch version if this Poisson regression problem "
   ]
  },
  {
   "cell_type": "code",
   "execution_count": 1,
   "metadata": {
    "collapsed": false
   },
   "outputs": [],
   "source": [
    "from __future__ import print_function\n",
    "import tensorflow as tf\n",
    "import numpy as np\n",
    "import pandas as pd\n",
    "import statsmodels.api as sm"
   ]
  },
  {
   "cell_type": "markdown",
   "metadata": {},
   "source": [
    "### Generating data"
   ]
  },
  {
   "cell_type": "code",
   "execution_count": 2,
   "metadata": {
    "collapsed": true
   },
   "outputs": [],
   "source": [
    "def gen_data(N = 10000):\n",
    "    data = np.random.uniform(-1, 1, (N, 3))\n",
    "    data = sm.add_constant(data)\n",
    "    data = pd.DataFrame(data, columns = ['intercept', 'Var1', 'Var2', 'Var3'])\n",
    "    lam = np.exp(-2*data['intercept'] + data['Var1'] - 0.5*data['Var2'] + 0.3*data['Var3'] )\n",
    "    resp = np.random.poisson(lam = lam)\n",
    "    data['lam'] = lam\n",
    "    data['resp'] = resp\n",
    "    return data"
   ]
  },
  {
   "cell_type": "code",
   "execution_count": 3,
   "metadata": {
    "collapsed": true
   },
   "outputs": [],
   "source": [
    "dtrain = gen_data()"
   ]
  },
  {
   "cell_type": "markdown",
   "metadata": {},
   "source": [
    "### Mini-batch learnign"
   ]
  },
  {
   "cell_type": "code",
   "execution_count": 4,
   "metadata": {
    "collapsed": false
   },
   "outputs": [],
   "source": [
    "batch_size = 500\n",
    "with tf.device('/cpu:0'):\n",
    "    X = tf.placeholder(dtype=tf.float32, shape = (None, 4), name = 'X')\n",
    "    y = tf.placeholder(dtype = tf.float32, name='y', shape=(None, 1))\n",
    "\n",
    "    w = tf.Variable(tf.zeros([4, 1]))\n",
    "\n",
    "    y_hat = tf.exp(tf.matmul(X, w))\n",
    "\n",
    "    loss_function = tf.reduce_mean(-y*tf.log(y_hat)+y_hat)\n",
    "\n",
    "with tf.device('/cpu:0'):\n",
    "    train_step = tf.train.FtrlOptimizer(1).minimize(loss_function)\n",
    "    init = tf.global_variables_initializer()\n",
    "session = tf.InteractiveSession()\n",
    "session.run(init)\n",
    "\n",
    "for i in range(1000):\n",
    "    dtrain = gen_data(batch_size)\n",
    "    X_ = dtrain[['intercept', 'Var1', 'Var2', 'Var3']].as_matrix()\n",
    "    y_ = dtrain[['resp']]\n",
    "    session.run([train_step, loss_function], feed_dict = {X:X_ , y:y_})"
   ]
  },
  {
   "cell_type": "markdown",
   "metadata": {},
   "source": [
    "### The result "
   ]
  },
  {
   "cell_type": "code",
   "execution_count": 5,
   "metadata": {
    "collapsed": false
   },
   "outputs": [
    {
     "data": {
      "text/plain": [
       "array([[-2.02333641],\n",
       "       [ 0.9831714 ],\n",
       "       [-0.56171674],\n",
       "       [ 0.3710334 ]], dtype=float32)"
      ]
     },
     "execution_count": 5,
     "metadata": {},
     "output_type": "execute_result"
    }
   ],
   "source": [
    "w.eval()"
   ]
  },
  {
   "cell_type": "markdown",
   "metadata": {},
   "source": [
    "### Comparison with the statsmodels package \n",
    "To check the results, we repeat solving the same regression problem using the statsmodels library:"
   ]
  },
  {
   "cell_type": "code",
   "execution_count": 6,
   "metadata": {
    "collapsed": false
   },
   "outputs": [],
   "source": [
    "poisson_family = sm.families.family.Poisson(link=sm.genmod.families.links.log)\n",
    "poisson_model = sm.GLM(dtrain['resp'], dtrain[['intercept', 'Var1', 'Var2', 'Var3']], family=poisson_family)\n",
    "poisson_results = poisson_model.fit()"
   ]
  },
  {
   "cell_type": "code",
   "execution_count": 7,
   "metadata": {
    "collapsed": false
   },
   "outputs": [
    {
     "data": {
      "text/html": [
       "<table class=\"simpletable\">\n",
       "<caption>Generalized Linear Model Regression Results</caption>\n",
       "<tr>\n",
       "  <th>Dep. Variable:</th>        <td>resp</td>       <th>  No. Observations:  </th>  <td>   500</td> \n",
       "</tr>\n",
       "<tr>\n",
       "  <th>Model:</th>                 <td>GLM</td>       <th>  Df Residuals:      </th>  <td>   496</td> \n",
       "</tr>\n",
       "<tr>\n",
       "  <th>Model Family:</th>        <td>Poisson</td>     <th>  Df Model:          </th>  <td>     3</td> \n",
       "</tr>\n",
       "<tr>\n",
       "  <th>Link Function:</th>         <td>log</td>       <th>  Scale:             </th>    <td>1.0</td>  \n",
       "</tr>\n",
       "<tr>\n",
       "  <th>Method:</th>               <td>IRLS</td>       <th>  Log-Likelihood:    </th> <td> -216.75</td>\n",
       "</tr>\n",
       "<tr>\n",
       "  <th>Date:</th>           <td>Sun, 01 Oct 2017</td> <th>  Deviance:          </th> <td>  285.97</td>\n",
       "</tr>\n",
       "<tr>\n",
       "  <th>Time:</th>               <td>21:34:43</td>     <th>  Pearson chi2:      </th>  <td>  503.</td> \n",
       "</tr>\n",
       "<tr>\n",
       "  <th>No. Iterations:</th>         <td>6</td>        <th>                     </th>     <td> </td>   \n",
       "</tr>\n",
       "</table>\n",
       "<table class=\"simpletable\">\n",
       "<tr>\n",
       "      <td></td>         <th>coef</th>     <th>std err</th>      <th>z</th>      <th>P>|z|</th>  <th>[0.025</th>    <th>0.975]</th>  \n",
       "</tr>\n",
       "<tr>\n",
       "  <th>intercept</th> <td>   -2.0542</td> <td>    0.136</td> <td>  -15.103</td> <td> 0.000</td> <td>   -2.321</td> <td>   -1.788</td>\n",
       "</tr>\n",
       "<tr>\n",
       "  <th>Var1</th>      <td>    0.9316</td> <td>    0.208</td> <td>    4.473</td> <td> 0.000</td> <td>    0.523</td> <td>    1.340</td>\n",
       "</tr>\n",
       "<tr>\n",
       "  <th>Var2</th>      <td>   -0.5411</td> <td>    0.193</td> <td>   -2.803</td> <td> 0.005</td> <td>   -0.919</td> <td>   -0.163</td>\n",
       "</tr>\n",
       "<tr>\n",
       "  <th>Var3</th>      <td>    0.2502</td> <td>    0.193</td> <td>    1.296</td> <td> 0.195</td> <td>   -0.128</td> <td>    0.629</td>\n",
       "</tr>\n",
       "</table>"
      ],
      "text/plain": [
       "<class 'statsmodels.iolib.summary.Summary'>\n",
       "\"\"\"\n",
       "                 Generalized Linear Model Regression Results                  \n",
       "==============================================================================\n",
       "Dep. Variable:                   resp   No. Observations:                  500\n",
       "Model:                            GLM   Df Residuals:                      496\n",
       "Model Family:                 Poisson   Df Model:                            3\n",
       "Link Function:                    log   Scale:                             1.0\n",
       "Method:                          IRLS   Log-Likelihood:                -216.75\n",
       "Date:                Sun, 01 Oct 2017   Deviance:                       285.97\n",
       "Time:                        21:34:43   Pearson chi2:                     503.\n",
       "No. Iterations:                     6                                         \n",
       "==============================================================================\n",
       "                 coef    std err          z      P>|z|      [0.025      0.975]\n",
       "------------------------------------------------------------------------------\n",
       "intercept     -2.0542      0.136    -15.103      0.000      -2.321      -1.788\n",
       "Var1           0.9316      0.208      4.473      0.000       0.523       1.340\n",
       "Var2          -0.5411      0.193     -2.803      0.005      -0.919      -0.163\n",
       "Var3           0.2502      0.193      1.296      0.195      -0.128       0.629\n",
       "==============================================================================\n",
       "\"\"\""
      ]
     },
     "execution_count": 7,
     "metadata": {},
     "output_type": "execute_result"
    }
   ],
   "source": [
    "poisson_results.summary()"
   ]
  }
 ],
 "metadata": {
  "anaconda-cloud": {},
  "kernelspec": {
   "display_name": "Python [default]",
   "language": "python",
   "name": "python3"
  },
  "language_info": {
   "codemirror_mode": {
    "name": "ipython",
    "version": 3
   },
   "file_extension": ".py",
   "mimetype": "text/x-python",
   "name": "python",
   "nbconvert_exporter": "python",
   "pygments_lexer": "ipython3",
   "version": "3.5.2"
  }
 },
 "nbformat": 4,
 "nbformat_minor": 0
}

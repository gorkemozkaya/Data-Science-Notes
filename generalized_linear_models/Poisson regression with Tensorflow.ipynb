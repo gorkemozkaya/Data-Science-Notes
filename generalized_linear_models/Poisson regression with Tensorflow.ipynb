{
  "cells": [
    {
      "cell_type": "markdown",
      "metadata": {
        "id": "view-in-github",
        "colab_type": "text"
      },
      "source": [
        "<a href=\"https://colab.research.google.com/github/gorkemozkaya/Data-Science-Notes/blob/master/generalized_linear_models/Poisson%20regression%20with%20Tensorflow.ipynb\" target=\"_parent\"><img src=\"https://colab.research.google.com/assets/colab-badge.svg\" alt=\"Open In Colab\"/></a>"
      ]
    },
    {
      "cell_type": "markdown",
      "metadata": {
        "id": "YndZFziXoZoj"
      },
      "source": [
        "## Poisson regression with Tensorflow\n",
        "*Gorkem Ozkaya*\n",
        "\n",
        "In this notebook we will perform a Poisson regression with Google's Deep Learning library Tensorflow. Although Tensorflow is not primarily designed for traditional modeling tasks such as Poisson regression, we still can benefit from the flexibility of Tensorflow. Starting from shallow models like these, one can later obtain deeper versions of Poisson regression and other GLM's, which can handle nonlinearaties and variable interactions. "
      ]
    },
    {
      "cell_type": "code",
      "source": [
        "%tensorflow_version 1.x"
      ],
      "metadata": {
        "id": "3sJwhp9xo329",
        "outputId": "c0d13be5-d5da-4e80-c513-be856e8b2408",
        "colab": {
          "base_uri": "https://localhost:8080/"
        }
      },
      "execution_count": 1,
      "outputs": [
        {
          "output_type": "stream",
          "name": "stdout",
          "text": [
            "TensorFlow 1.x selected.\n"
          ]
        }
      ]
    },
    {
      "cell_type": "code",
      "execution_count": 2,
      "metadata": {
        "collapsed": true,
        "id": "9EglxWvSoZok",
        "outputId": "f7177b47-0e63-49a8-cdb3-2467529a437d",
        "colab": {
          "base_uri": "https://localhost:8080/"
        }
      },
      "outputs": [
        {
          "output_type": "stream",
          "name": "stderr",
          "text": [
            "/usr/local/lib/python3.7/dist-packages/statsmodels/tools/_testing.py:19: FutureWarning: pandas.util.testing is deprecated. Use the functions in the public API at pandas.testing instead.\n",
            "  import pandas.util.testing as tm\n"
          ]
        }
      ],
      "source": [
        "import tensorflow as tf\n",
        "import numpy as np\n",
        "import pandas as pd\n",
        "import statsmodels.api as sm"
      ]
    },
    {
      "cell_type": "markdown",
      "metadata": {
        "id": "k36UObhyoZol"
      },
      "source": [
        "### Generating data"
      ]
    },
    {
      "cell_type": "code",
      "execution_count": 5,
      "metadata": {
        "collapsed": true,
        "id": "e87ZWLCioZol"
      },
      "outputs": [],
      "source": [
        "def gen_data(N = 10000):\n",
        "    \"\"\" generating sample data for the model\n",
        "        y = -2 + 1.0 * X_1 - 0.5 * X_2 + 0.3 * X_3\n",
        "    \"\"\"\n",
        "    data = np.random.uniform(-1, 1, (N, 3))\n",
        "    data = sm.add_constant(data)\n",
        "    data = pd.DataFrame(data, columns = ['intercept', 'Var1', 'Var2', 'Var3'])\n",
        "    lam = np.exp(-2 * data['intercept'] + data['Var1'] - 0.5 * data['Var2'] + 0.3 * data['Var3'] )\n",
        "    resp = np.random.poisson(lam = lam)\n",
        "    data['lam'] = lam\n",
        "    data['resp'] = resp\n",
        "    return data"
      ]
    },
    {
      "cell_type": "code",
      "execution_count": 6,
      "metadata": {
        "collapsed": true,
        "id": "bd-qB8GToZom"
      },
      "outputs": [],
      "source": [
        "dtrain = gen_data()"
      ]
    },
    {
      "cell_type": "markdown",
      "metadata": {
        "id": "YrGg5U13oZom"
      },
      "source": [
        "### Stating Poisson regression as an optimization problem\n",
        "Let $X$ be the design matrix, $w$ be the model coefficient vector and $y$ be the observed response. Let $\\hat y(w) = \\exp\\left(Xw\\right)$ be the estimated mean by the model. We are looking for the coefficient vector $w$ that maximizes the likelihood\n",
        "$$\n",
        "L(w) =  \\prod_{i = 1}^N \\frac{\\hat y_i(w)^{y_i} e^{-\\hat y_i(w)}}{y_i!},\n",
        "$$\n",
        "where $y = (y_i)_i$ and $\\hat y = (\\hat y_i)_i$.  Taking logarithms and removing the constants, this problem is equivalent to minimizing the loss function\n",
        "$$\n",
        "   L(w)  =  -\\sum_{i=1}^N \\left(y_i \\log(\\hat y_i(w)) - \\hat y_i(w) \\right).\n",
        "$$\n"
      ]
    },
    {
      "cell_type": "markdown",
      "metadata": {
        "id": "_aZ8v_f7oZom"
      },
      "source": [
        "### Fitting the model with Tensorflow\n",
        "Having defined the objective function, now we can set the Tensorflow model. With its automatic differentiation support, Tensorflow automatically calculates the gradients of mathematical expressions, hence can do gradient descent optimization on them. We chose *Adam* as the optimization algorithm. "
      ]
    },
    {
      "cell_type": "code",
      "execution_count": 8,
      "metadata": {
        "id": "meKSUES5oZon",
        "outputId": "2ed8412b-3060-4862-cc33-3b096185f095",
        "colab": {
          "base_uri": "https://localhost:8080/"
        }
      },
      "outputs": [
        {
          "output_type": "stream",
          "name": "stderr",
          "text": [
            "/tensorflow-1.15.2/python3.7/tensorflow_core/python/client/session.py:1750: UserWarning: An interactive session is already active. This can cause out-of-memory errors in some cases. You must explicitly call `InteractiveSession.close()` to release resources held by the other session(s).\n",
            "  warnings.warn('An interactive session is already active. This can '\n"
          ]
        }
      ],
      "source": [
        "X = tf.constant(dtrain[['intercept', 'Var1', 'Var2', 'Var3']].values, name = 'X', dtype=tf.float32)\n",
        "y = tf.constant(value = list(dtrain['resp']), dtype = tf.float32, name='y', shape=(dtrain.shape[0], 1))\n",
        "\n",
        "w = tf.Variable(tf.zeros([4, 1]))\n",
        "\n",
        "y_hat = tf.exp(tf.matmul(X, w))\n",
        "\n",
        "loss_function = tf.reduce_mean(-y*tf.log(y_hat)+y_hat)\n",
        "\n",
        "train_step = tf.train.AdamOptimizer(0.001).minimize(loss_function)\n",
        "init = tf.global_variables_initializer()\n",
        "session = tf.InteractiveSession()\n",
        "session.run(init)\n",
        "\n",
        "for i in range(10000):\n",
        "    session.run(train_step)"
      ]
    },
    {
      "cell_type": "markdown",
      "metadata": {
        "id": "PjmI6V6IoZon"
      },
      "source": [
        "### The result "
      ]
    },
    {
      "cell_type": "code",
      "execution_count": 9,
      "metadata": {
        "id": "E20pt7rzoZon",
        "outputId": "e2012c6b-71fb-4069-809d-41d4eb6270f5",
        "colab": {
          "base_uri": "https://localhost:8080/"
        }
      },
      "outputs": [
        {
          "output_type": "execute_result",
          "data": {
            "text/plain": [
              "array([[-2.0145135 ],\n",
              "       [ 1.0417475 ],\n",
              "       [-0.55138296],\n",
              "       [ 0.34045687]], dtype=float32)"
            ]
          },
          "metadata": {},
          "execution_count": 9
        }
      ],
      "source": [
        "w.eval()"
      ]
    },
    {
      "cell_type": "markdown",
      "metadata": {
        "id": "zNeK4AcQoZoo"
      },
      "source": [
        "### Comparison with the statsmodels package \n",
        "To check the results, we repeat solving the same regression problem using the statsmodels library:"
      ]
    },
    {
      "cell_type": "code",
      "execution_count": 11,
      "metadata": {
        "id": "nT40eel_oZoo"
      },
      "outputs": [],
      "source": [
        "poisson_family = sm.families.Poisson()\n",
        "poisson_model = sm.GLM(dtrain['resp'], dtrain[['intercept', 'Var1', 'Var2', 'Var3']], family=poisson_family)\n",
        "poisson_results = poisson_model.fit()"
      ]
    },
    {
      "cell_type": "code",
      "execution_count": 12,
      "metadata": {
        "id": "cAKEtoQ0oZoo",
        "outputId": "a411f936-23d9-410f-835c-8de20b67a199",
        "colab": {
          "base_uri": "https://localhost:8080/",
          "height": 337
        }
      },
      "outputs": [
        {
          "output_type": "execute_result",
          "data": {
            "text/plain": [
              "<class 'statsmodels.iolib.summary.Summary'>\n",
              "\"\"\"\n",
              "                 Generalized Linear Model Regression Results                  \n",
              "==============================================================================\n",
              "Dep. Variable:                   resp   No. Observations:                10000\n",
              "Model:                            GLM   Df Residuals:                     9996\n",
              "Model Family:                 Poisson   Df Model:                            3\n",
              "Link Function:                    log   Scale:                          1.0000\n",
              "Method:                          IRLS   Log-Likelihood:                -4487.3\n",
              "Date:                Sat, 02 Jul 2022   Deviance:                       5862.7\n",
              "Time:                        16:05:46   Pearson chi2:                 1.01e+04\n",
              "No. Iterations:                     6                                         \n",
              "Covariance Type:            nonrobust                                         \n",
              "==============================================================================\n",
              "                 coef    std err          z      P>|z|      [0.025      0.975]\n",
              "------------------------------------------------------------------------------\n",
              "intercept     -2.0145      0.030    -67.132      0.000      -2.073      -1.956\n",
              "Var1           1.0418      0.047     22.202      0.000       0.950       1.134\n",
              "Var2          -0.5514      0.044    -12.652      0.000      -0.637      -0.466\n",
              "Var3           0.3405      0.042      8.127      0.000       0.258       0.423\n",
              "==============================================================================\n",
              "\"\"\""
            ],
            "text/html": [
              "<table class=\"simpletable\">\n",
              "<caption>Generalized Linear Model Regression Results</caption>\n",
              "<tr>\n",
              "  <th>Dep. Variable:</th>         <td>resp</td>       <th>  No. Observations:  </th>  <td> 10000</td> \n",
              "</tr>\n",
              "<tr>\n",
              "  <th>Model:</th>                  <td>GLM</td>       <th>  Df Residuals:      </th>  <td>  9996</td> \n",
              "</tr>\n",
              "<tr>\n",
              "  <th>Model Family:</th>         <td>Poisson</td>     <th>  Df Model:          </th>  <td>     3</td> \n",
              "</tr>\n",
              "<tr>\n",
              "  <th>Link Function:</th>          <td>log</td>       <th>  Scale:             </th> <td>  1.0000</td>\n",
              "</tr>\n",
              "<tr>\n",
              "  <th>Method:</th>                <td>IRLS</td>       <th>  Log-Likelihood:    </th> <td> -4487.3</td>\n",
              "</tr>\n",
              "<tr>\n",
              "  <th>Date:</th>            <td>Sat, 02 Jul 2022</td> <th>  Deviance:          </th> <td>  5862.7</td>\n",
              "</tr>\n",
              "<tr>\n",
              "  <th>Time:</th>                <td>16:05:46</td>     <th>  Pearson chi2:      </th> <td>1.01e+04</td>\n",
              "</tr>\n",
              "<tr>\n",
              "  <th>No. Iterations:</th>          <td>6</td>        <th>                     </th>     <td> </td>   \n",
              "</tr>\n",
              "<tr>\n",
              "  <th>Covariance Type:</th>     <td>nonrobust</td>    <th>                     </th>     <td> </td>   \n",
              "</tr>\n",
              "</table>\n",
              "<table class=\"simpletable\">\n",
              "<tr>\n",
              "      <td></td>         <th>coef</th>     <th>std err</th>      <th>z</th>      <th>P>|z|</th>  <th>[0.025</th>    <th>0.975]</th>  \n",
              "</tr>\n",
              "<tr>\n",
              "  <th>intercept</th> <td>   -2.0145</td> <td>    0.030</td> <td>  -67.132</td> <td> 0.000</td> <td>   -2.073</td> <td>   -1.956</td>\n",
              "</tr>\n",
              "<tr>\n",
              "  <th>Var1</th>      <td>    1.0418</td> <td>    0.047</td> <td>   22.202</td> <td> 0.000</td> <td>    0.950</td> <td>    1.134</td>\n",
              "</tr>\n",
              "<tr>\n",
              "  <th>Var2</th>      <td>   -0.5514</td> <td>    0.044</td> <td>  -12.652</td> <td> 0.000</td> <td>   -0.637</td> <td>   -0.466</td>\n",
              "</tr>\n",
              "<tr>\n",
              "  <th>Var3</th>      <td>    0.3405</td> <td>    0.042</td> <td>    8.127</td> <td> 0.000</td> <td>    0.258</td> <td>    0.423</td>\n",
              "</tr>\n",
              "</table>"
            ]
          },
          "metadata": {},
          "execution_count": 12
        }
      ],
      "source": [
        "poisson_results.summary()"
      ]
    },
    {
      "cell_type": "code",
      "source": [
        ""
      ],
      "metadata": {
        "id": "GtsqAnzdqTPD"
      },
      "execution_count": null,
      "outputs": []
    }
  ],
  "metadata": {
    "kernelspec": {
      "display_name": "Python 2",
      "language": "python",
      "name": "python2"
    },
    "language_info": {
      "codemirror_mode": {
        "name": "ipython",
        "version": 2
      },
      "file_extension": ".py",
      "mimetype": "text/x-python",
      "name": "python",
      "nbconvert_exporter": "python",
      "pygments_lexer": "ipython2",
      "version": "2.7.5"
    },
    "colab": {
      "name": "Poisson regression with Tensorflow.ipynb",
      "provenance": [],
      "include_colab_link": true
    }
  },
  "nbformat": 4,
  "nbformat_minor": 0
}
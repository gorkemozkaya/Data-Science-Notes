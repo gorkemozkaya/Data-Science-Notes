{
 "cells": [
  {
   "cell_type": "markdown",
   "metadata": {},
   "source": [
    "## Poisson regression with Tensorflow\n",
    "*Gorkem Ozkaya*\n",
    "\n",
    "In this notebook we will perform a Poisson regression with Google's Deep Learning library Tensorflow. Although Tensorflow is not primarily designed for traditional modeling tasks such as Poisson regression, we still can benefit from the flexibility of Tensorflow. Starting from shallow models like these, one can later obtain deeper versions of Poisson regression and other GLM's, which can handle nonlinearaties and variable interactions. "
   ]
  },
  {
   "cell_type": "code",
   "execution_count": 1,
   "metadata": {
    "collapsed": true
   },
   "outputs": [],
   "source": [
    "import tensorflow as tf\n",
    "import numpy as np\n",
    "import pandas as pd\n",
    "import statsmodels.api as sm"
   ]
  },
  {
   "cell_type": "markdown",
   "metadata": {},
   "source": [
    "### Generating data"
   ]
  },
  {
   "cell_type": "code",
   "execution_count": 2,
   "metadata": {
    "collapsed": true
   },
   "outputs": [],
   "source": [
    "def gen_data(N = 10000):\n",
    "    data = np.random.uniform(-1, 1, (N, 3))\n",
    "    data = sm.add_constant(data)\n",
    "    data = pd.DataFrame(data, columns = ['intercept', 'Var1', 'Var2', 'Var3'])\n",
    "    lam = np.exp(-2*data['intercept'] + data['Var1'] - 0.5*data['Var2'] + 0.3*data['Var3'] )\n",
    "    resp = np.random.poisson(lam = lam)\n",
    "    data['lam'] = lam\n",
    "    data['resp'] = resp\n",
    "    return data"
   ]
  },
  {
   "cell_type": "code",
   "execution_count": 3,
   "metadata": {
    "collapsed": true
   },
   "outputs": [],
   "source": [
    "dtrain = gen_data()"
   ]
  },
  {
   "cell_type": "markdown",
   "metadata": {},
   "source": [
    "### Stating Poisson regression as an optimization problem\n",
    "Let $X$ be the design matrix, $w$ be the model coefficient vector and $y$ be the observed response. Let $\\hat y(w) = \\exp\\left(Xw\\right)$ be the estimated mean by the model. We are looking for the coefficient vector $w$ that maximizes the likelihood\n",
    "$$\n",
    "L(w) =  \\prod_{i = 1}^N \\frac{\\hat y_i(w)^{y_i} e^{-\\hat y_i(w)}}{y_i!},\n",
    "$$\n",
    "where $y = (y_i)_i$ and $\\hat y = (\\hat y_i)_i$.  Taking logarithms and removing the constants, this problem is equivalent to minimizing the loss function\n",
    "$$\n",
    "   L(w)  =  -\\sum_{i=1}^N \\left(y_i \\log(\\hat y_i(w)) - \\hat y_i(w) \\right).\n",
    "$$\n"
   ]
  },
  {
   "cell_type": "markdown",
   "metadata": {},
   "source": [
    "### Fitting the model with Tensorflow\n",
    "Having defined the objective function, now we can set the Tensorflow model. With its automatic differentiation support, Tensorflow automatically calculates the gradients of mathematical expressions, hence can do gradient descent optimization on them. We chose *Adam* as the optimization algorithm. "
   ]
  },
  {
   "cell_type": "code",
   "execution_count": 4,
   "metadata": {
    "collapsed": false
   },
   "outputs": [],
   "source": [
    "X = tf.constant(dtrain[['intercept', 'Var1', 'Var2', 'Var3']].as_matrix(), name = 'X', dtype=tf.float32)\n",
    "y = tf.constant(value = list(dtrain['resp']), dtype = tf.float32, name='y', shape=(dtrain.shape[0], 1))\n",
    "\n",
    "w = tf.Variable(tf.zeros([4, 1]))\n",
    "\n",
    "y_hat = tf.exp(tf.matmul(X, w))\n",
    "\n",
    "loss_function = tf.reduce_mean(-y*tf.log(y_hat)+y_hat)\n",
    "\n",
    "train_step = tf.train.AdamOptimizer(0.001).minimize(loss_function)\n",
    "init = tf.global_variables_initializer()\n",
    "session = tf.InteractiveSession()\n",
    "session.run(init)\n",
    "\n",
    "for i in xrange(10000):\n",
    "    session.run(train_step)"
   ]
  },
  {
   "cell_type": "markdown",
   "metadata": {},
   "source": [
    "### The result "
   ]
  },
  {
   "cell_type": "code",
   "execution_count": 5,
   "metadata": {
    "collapsed": false
   },
   "outputs": [
    {
     "data": {
      "text/plain": [
       "array([[-1.98536253],\n",
       "       [ 0.97114146],\n",
       "       [-0.49905109],\n",
       "       [ 0.36309692]], dtype=float32)"
      ]
     },
     "execution_count": 5,
     "metadata": {},
     "output_type": "execute_result"
    }
   ],
   "source": [
    "w.eval()"
   ]
  },
  {
   "cell_type": "markdown",
   "metadata": {},
   "source": [
    "### Comparison with the statsmodels package \n",
    "To check the results, we repeat solving the same regression problem using the statsmodels library:"
   ]
  },
  {
   "cell_type": "code",
   "execution_count": 6,
   "metadata": {
    "collapsed": false
   },
   "outputs": [],
   "source": [
    "poisson_family = sm.families.family.Poisson(link=sm.genmod.families.links.log)\n",
    "poisson_model = sm.GLM(dtrain['resp'], dtrain[['intercept', 'Var1', 'Var2', 'Var3']], family=poisson_family)\n",
    "poisson_results = poisson_model.fit()"
   ]
  },
  {
   "cell_type": "code",
   "execution_count": 7,
   "metadata": {
    "collapsed": false
   },
   "outputs": [
    {
     "data": {
      "text/html": [
       "<table class=\"simpletable\">\n",
       "<caption>Generalized Linear Model Regression Results</caption>\n",
       "<tr>\n",
       "  <th>Dep. Variable:</th>        <td>resp</td>       <th>  No. Observations:  </th>  <td> 10000</td> \n",
       "</tr>\n",
       "<tr>\n",
       "  <th>Model:</th>                 <td>GLM</td>       <th>  Df Residuals:      </th>  <td>  9996</td> \n",
       "</tr>\n",
       "<tr>\n",
       "  <th>Model Family:</th>        <td>Poisson</td>     <th>  Df Model:          </th>  <td>     3</td> \n",
       "</tr>\n",
       "<tr>\n",
       "  <th>Link Function:</th>         <td>log</td>       <th>  Scale:             </th>    <td>1.0</td>  \n",
       "</tr>\n",
       "<tr>\n",
       "  <th>Method:</th>               <td>IRLS</td>       <th>  Log-Likelihood:    </th> <td> -4492.6</td>\n",
       "</tr>\n",
       "<tr>\n",
       "  <th>Date:</th>           <td>Sun, 30 Apr 2017</td> <th>  Deviance:          </th> <td>  5841.5</td>\n",
       "</tr>\n",
       "<tr>\n",
       "  <th>Time:</th>               <td>21:10:01</td>     <th>  Pearson chi2:      </th> <td>9.93e+03</td>\n",
       "</tr>\n",
       "<tr>\n",
       "  <th>No. Iterations:</th>         <td>9</td>        <th>                     </th>     <td> </td>   \n",
       "</tr>\n",
       "</table>\n",
       "<table class=\"simpletable\">\n",
       "<tr>\n",
       "      <td></td>         <th>coef</th>     <th>std err</th>      <th>z</th>      <th>P>|z|</th> <th>[95.0% Conf. Int.]</th> \n",
       "</tr>\n",
       "<tr>\n",
       "  <th>intercept</th> <td>   -1.9854</td> <td>    0.029</td> <td>  -67.760</td> <td> 0.000</td> <td>   -2.043    -1.928</td>\n",
       "</tr>\n",
       "<tr>\n",
       "  <th>Var1</th>      <td>    0.9711</td> <td>    0.046</td> <td>   21.151</td> <td> 0.000</td> <td>    0.881     1.061</td>\n",
       "</tr>\n",
       "<tr>\n",
       "  <th>Var2</th>      <td>   -0.4991</td> <td>    0.044</td> <td>  -11.465</td> <td> 0.000</td> <td>   -0.584    -0.414</td>\n",
       "</tr>\n",
       "<tr>\n",
       "  <th>Var3</th>      <td>    0.3631</td> <td>    0.043</td> <td>    8.535</td> <td> 0.000</td> <td>    0.280     0.446</td>\n",
       "</tr>\n",
       "</table>"
      ],
      "text/plain": [
       "<class 'statsmodels.iolib.summary.Summary'>\n",
       "\"\"\"\n",
       "                 Generalized Linear Model Regression Results                  \n",
       "==============================================================================\n",
       "Dep. Variable:                   resp   No. Observations:                10000\n",
       "Model:                            GLM   Df Residuals:                     9996\n",
       "Model Family:                 Poisson   Df Model:                            3\n",
       "Link Function:                    log   Scale:                             1.0\n",
       "Method:                          IRLS   Log-Likelihood:                -4492.6\n",
       "Date:                Sun, 30 Apr 2017   Deviance:                       5841.5\n",
       "Time:                        21:10:01   Pearson chi2:                 9.93e+03\n",
       "No. Iterations:                     9                                         \n",
       "==============================================================================\n",
       "                 coef    std err          z      P>|z|      [95.0% Conf. Int.]\n",
       "------------------------------------------------------------------------------\n",
       "intercept     -1.9854      0.029    -67.760      0.000        -2.043    -1.928\n",
       "Var1           0.9711      0.046     21.151      0.000         0.881     1.061\n",
       "Var2          -0.4991      0.044    -11.465      0.000        -0.584    -0.414\n",
       "Var3           0.3631      0.043      8.535      0.000         0.280     0.446\n",
       "==============================================================================\n",
       "\"\"\""
      ]
     },
     "execution_count": 7,
     "metadata": {},
     "output_type": "execute_result"
    }
   ],
   "source": [
    "poisson_results.summary()"
   ]
  }
 ],
 "metadata": {
  "kernelspec": {
   "display_name": "Python 2",
   "language": "python",
   "name": "python2"
  },
  "language_info": {
   "codemirror_mode": {
    "name": "ipython",
    "version": 2
   },
   "file_extension": ".py",
   "mimetype": "text/x-python",
   "name": "python",
   "nbconvert_exporter": "python",
   "pygments_lexer": "ipython2",
   "version": "2.7.5"
  }
 },
 "nbformat": 4,
 "nbformat_minor": 0
}

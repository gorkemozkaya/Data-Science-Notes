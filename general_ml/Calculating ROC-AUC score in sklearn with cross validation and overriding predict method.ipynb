{
 "cells": [
  {
   "cell_type": "markdown",
   "metadata": {},
   "source": [
    "One needs the predicted probabilities in order to calculate the ROC-AUC (area under the curve) score. The `cross_val_predict` uses the `predict` methods of classifiers. In order to be able to get the ROC-AUC score, one can simply subclass the classifier, overriding the `predict` method, so that it would act like `predict_proba`. "
   ]
  },
  {
   "cell_type": "code",
   "execution_count": 1,
   "metadata": {
    "collapsed": false
   },
   "outputs": [
    {
     "name": "stdout",
     "output_type": "stream",
     "text": [
      "ROC-AUC score: 0.707422845016\n"
     ]
    }
   ],
   "source": [
    "from sklearn.datasets import make_classification\n",
    "from sklearn.linear_model import LogisticRegression\n",
    "from sklearn.cross_validation import cross_val_predict\n",
    "from sklearn.metrics import roc_auc_score\n",
    "\n",
    "class LogisticRegressionWrapper(LogisticRegression):\n",
    "    def predict(self, X):\n",
    "        return super(LogisticRegressionWrapper, self).predict_proba(X)\n",
    "\n",
    "X, y = make_classification(n_samples = 1000, n_features=10, n_classes = 2, flip_y = 0.5)\n",
    "\n",
    "log_reg_clf = LogisticRegressionWrapper(C=0.1, class_weight=None, dual=False,\n",
    "             fit_intercept=True)\n",
    "\n",
    "y_hat = cross_val_predict(log_reg_clf, X, y)[:,1]\n",
    "\n",
    "print(\"ROC-AUC score: {}\".format(roc_auc_score(y, y_hat)))"
   ]
  }
 ],
 "metadata": {
  "kernelspec": {
   "display_name": "Python 2",
   "language": "python",
   "name": "python2"
  },
  "language_info": {
   "codemirror_mode": {
    "name": "ipython",
    "version": 2
   },
   "file_extension": ".py",
   "mimetype": "text/x-python",
   "name": "python",
   "nbconvert_exporter": "python",
   "pygments_lexer": "ipython2",
   "version": "2.7.5"
  }
 },
 "nbformat": 4,
 "nbformat_minor": 0
}

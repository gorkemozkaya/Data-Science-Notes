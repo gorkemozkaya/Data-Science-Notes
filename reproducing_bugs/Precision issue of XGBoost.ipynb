{
 "cells": [
  {
   "cell_type": "markdown",
   "metadata": {},
   "source": [
    "### XGBoost evaluation and objective metrics seem to be limited by 1e-6, which is way lower than the minimum representable float32 1e-45"
   ]
  },
  {
   "cell_type": "code",
   "execution_count": 1,
   "metadata": {},
   "outputs": [],
   "source": [
    "import xgboost as xgb"
   ]
  },
  {
   "cell_type": "code",
   "execution_count": 54,
   "metadata": {},
   "outputs": [
    {
     "data": {
      "text/plain": [
       "'0.90'"
      ]
     },
     "execution_count": 54,
     "metadata": {},
     "output_type": "execute_result"
    }
   ],
   "source": [
    "xgb.__version__"
   ]
  },
  {
   "cell_type": "code",
   "execution_count": 7,
   "metadata": {},
   "outputs": [],
   "source": [
    "import numpy as np\n",
    "from matplotlib.pyplot import plot\n",
    "import pandas as pd\n",
    "%matplotlib inline\n",
    "import xgboost as xgb"
   ]
  },
  {
   "cell_type": "code",
   "execution_count": 34,
   "metadata": {},
   "outputs": [],
   "source": [
    "def gen_data():\n",
    "    X = np.random.normal(0,1, size = (100000, 3))\n",
    "    y = X.sum(axis = 1)\n",
    "    return X, y"
   ]
  },
  {
   "cell_type": "code",
   "execution_count": 35,
   "metadata": {},
   "outputs": [],
   "source": [
    "Xtrain, ytrain = gen_data()\n",
    "dtrain = xgb.DMatrix(Xtrain, ytrain)\n",
    "Xtest, ytest = gen_data()\n",
    "dtest = xgb.DMatrix(Xtest, ytest)"
   ]
  },
  {
   "cell_type": "code",
   "execution_count": 39,
   "metadata": {},
   "outputs": [],
   "source": [
    "params = {\n",
    "    'nthread' : 16,\n",
    "    'eta' : 0.1,\n",
    "    'max_depth' : 3,\n",
    "    'min_child_weight' : 0\n",
    "}"
   ]
  },
  {
   "cell_type": "code",
   "execution_count": 40,
   "metadata": {},
   "outputs": [
    {
     "name": "stdout",
     "output_type": "stream",
     "text": [
      "[0]\ttrain-rmse:1.69082\ttest-rmse:1.67483\n",
      "[10]\ttrain-rmse:0.977205\ttest-rmse:0.969671\n",
      "[20]\ttrain-rmse:0.625623\ttest-rmse:0.62239\n",
      "[30]\ttrain-rmse:0.413616\ttest-rmse:0.412539\n",
      "[40]\ttrain-rmse:0.281476\ttest-rmse:0.282413\n",
      "[50]\ttrain-rmse:0.198711\ttest-rmse:0.20089\n",
      "[60]\ttrain-rmse:0.147177\ttest-rmse:0.150083\n",
      "[70]\ttrain-rmse:0.116267\ttest-rmse:0.119466\n",
      "[80]\ttrain-rmse:0.097981\ttest-rmse:0.101196\n",
      "[90]\ttrain-rmse:0.087373\ttest-rmse:0.090588\n",
      "[99]\ttrain-rmse:0.081958\ttest-rmse:0.084983\n"
     ]
    }
   ],
   "source": [
    "model = xgb.train(params, dtrain, num_boost_round = 100, evals = [(dtrain, 'train'), (dtest, 'test')], verbose_eval = 10)"
   ]
  },
  {
   "cell_type": "code",
   "execution_count": 41,
   "metadata": {
    "scrolled": false
   },
   "outputs": [
    {
     "name": "stdout",
     "output_type": "stream",
     "text": [
      "0:[f0<-0.00125904335] yes=1,no=2,missing=1\n",
      "\t1:[f2<-0.135855377] yes=3,no=4,missing=3\n",
      "\t\t3:[f1<0.0234248489] yes=7,no=8,missing=7\n",
      "\t\t\t7:leaf=-0.29697153\n",
      "\t\t\t8:leaf=-0.137675151\n",
      "\t\t4:[f1<-0.0451753065] yes=9,no=10,missing=9\n",
      "\t\t\t9:leaf=-0.140996501\n",
      "\t\t\t10:leaf=0.0184289683\n",
      "\t2:[f2<0.0641031414] yes=5,no=6,missing=5\n",
      "\t\t5:[f1<0.00203561503] yes=11,no=12,missing=11\n",
      "\t\t\t11:leaf=-0.126399383\n",
      "\t\t\t12:leaf=0.0346667096\n",
      "\t\t6:[f1<-0.0630640686] yes=13,no=14,missing=13\n",
      "\t\t\t13:leaf=0.0318282843\n",
      "\t\t\t14:leaf=0.190750107\n",
      "\n"
     ]
    }
   ],
   "source": [
    "print(model.get_dump()[0])"
   ]
  },
  {
   "cell_type": "code",
   "execution_count": 47,
   "metadata": {},
   "outputs": [],
   "source": [
    "dtrain2 = xgb.DMatrix(Xtrain, 1e-10*ytrain)\n",
    "dtest2 = xgb.DMatrix(Xtest, 1e-10*ytest)"
   ]
  },
  {
   "cell_type": "code",
   "execution_count": 48,
   "metadata": {},
   "outputs": [
    {
     "name": "stdout",
     "output_type": "stream",
     "text": [
      "[0]\ttrain-rmse:0.450013\ttest-rmse:0.450013\n",
      "[10]\ttrain-rmse:0.156904\ttest-rmse:0.156904\n",
      "[20]\ttrain-rmse:0.054711\ttest-rmse:0.054711\n",
      "[30]\ttrain-rmse:0.019077\ttest-rmse:0.019077\n",
      "[40]\ttrain-rmse:0.006652\ttest-rmse:0.006652\n",
      "[50]\ttrain-rmse:0.002319\ttest-rmse:0.002319\n",
      "[60]\ttrain-rmse:0.000809\ttest-rmse:0.000809\n",
      "[70]\ttrain-rmse:0.000282\ttest-rmse:0.000282\n",
      "[80]\ttrain-rmse:9.8e-05\ttest-rmse:9.8e-05\n",
      "[90]\ttrain-rmse:3.4e-05\ttest-rmse:3.4e-05\n",
      "[100]\ttrain-rmse:1.2e-05\ttest-rmse:1.2e-05\n",
      "[110]\ttrain-rmse:4e-06\ttest-rmse:4e-06\n",
      "[120]\ttrain-rmse:1e-06\ttest-rmse:1e-06\n",
      "[130]\ttrain-rmse:1e-06\ttest-rmse:1e-06\n",
      "[140]\ttrain-rmse:0\ttest-rmse:0\n",
      "[150]\ttrain-rmse:0\ttest-rmse:0\n",
      "[160]\ttrain-rmse:0\ttest-rmse:0\n",
      "[170]\ttrain-rmse:0\ttest-rmse:0\n",
      "[180]\ttrain-rmse:0\ttest-rmse:0\n",
      "[190]\ttrain-rmse:0\ttest-rmse:0\n",
      "[199]\ttrain-rmse:0\ttest-rmse:0\n"
     ]
    }
   ],
   "source": [
    "model2 = xgb.train(params, dtrain2, num_boost_round = 200, evals = [(dtrain2, 'train'), (dtest2, 'test')], verbose_eval = 10)"
   ]
  },
  {
   "cell_type": "code",
   "execution_count": 53,
   "metadata": {
    "scrolled": false
   },
   "outputs": [
    {
     "data": {
      "text/plain": [
       "['0:leaf=-0.0499995016\\n',\n",
       " '0:leaf=-0.0449995995\\n',\n",
       " '0:leaf=-0.0404996835\\n',\n",
       " '0:leaf=-0.0364497565\\n',\n",
       " '0:leaf=-0.032804817\\n',\n",
       " '0:leaf=-0.0295243692\\n',\n",
       " '0:leaf=-0.026571963\\n',\n",
       " '0:leaf=-0.0239147935\\n',\n",
       " '0:leaf=-0.0215233378\\n',\n",
       " '0:leaf=-0.0193710234\\n',\n",
       " '0:leaf=-0.0174339414\\n',\n",
       " '0:leaf=-0.0156905651\\n',\n",
       " '0:leaf=-0.0141215241\\n',\n",
       " '0:leaf=-0.0127093866\\n',\n",
       " '0:leaf=-0.0114384601\\n',\n",
       " '0:leaf=-0.0102946265\\n',\n",
       " '0:leaf=-0.00926517416\\n',\n",
       " '0:leaf=-0.00833866559\\n',\n",
       " '0:leaf=-0.00750480685\\n',\n",
       " '0:leaf=-0.00675433362\\n',\n",
       " '0:leaf=-0.00607890729\\n',\n",
       " '0:leaf=-0.00547102233\\n',\n",
       " '0:leaf=-0.0049239262\\n',\n",
       " '0:leaf=-0.00443153828\\n',\n",
       " '0:leaf=-0.00398838893\\n',\n",
       " '0:leaf=-0.00358955422\\n',\n",
       " '0:leaf=-0.00323060201\\n',\n",
       " '0:leaf=-0.00290754507\\n',\n",
       " '0:leaf=-0.00261679362\\n',\n",
       " '0:leaf=-0.00235511712\\n',\n",
       " '0:leaf=-0.00211960752\\n',\n",
       " '0:leaf=-0.00190764887\\n',\n",
       " '0:leaf=-0.00171688595\\n',\n",
       " '0:leaf=-0.00154519908\\n',\n",
       " '0:leaf=-0.00139068067\\n',\n",
       " '0:leaf=-0.00125161407\\n',\n",
       " '0:leaf=-0.00112645386\\n',\n",
       " '0:leaf=-0.00101380958\\n',\n",
       " '0:leaf=-0.00091242959\\n',\n",
       " '0:leaf=-0.000821187568\\n',\n",
       " '0:leaf=-0.000739069597\\n',\n",
       " '0:leaf=-0.00066516333\\n',\n",
       " '0:leaf=-0.00059864769\\n',\n",
       " '0:leaf=-0.000538783555\\n',\n",
       " '0:leaf=-0.00048490573\\n',\n",
       " '0:leaf=-0.000436415634\\n',\n",
       " '0:leaf=-0.000392774557\\n',\n",
       " '0:leaf=-0.000353497453\\n',\n",
       " '0:leaf=-0.000318148057\\n',\n",
       " '0:leaf=-0.000286333583\\n',\n",
       " '0:leaf=-0.000257700507\\n',\n",
       " '0:leaf=-0.00023193071\\n',\n",
       " '0:leaf=-0.000208737867\\n',\n",
       " '0:leaf=-0.000187864294\\n',\n",
       " '0:leaf=-0.000169078048\\n',\n",
       " '0:leaf=-0.000152170411\\n',\n",
       " '0:leaf=-0.000136953531\\n',\n",
       " '0:leaf=-0.000123258316\\n',\n",
       " '0:leaf=-0.000110932604\\n',\n",
       " '0:leaf=-9.98394462e-05\\n',\n",
       " '0:leaf=-8.98556027e-05\\n',\n",
       " '0:leaf=-8.0870137e-05\\n',\n",
       " '0:leaf=-7.27832012e-05\\n',\n",
       " '0:leaf=-6.55049516e-05\\n',\n",
       " '0:leaf=-5.89545307e-05\\n',\n",
       " '0:leaf=-5.30591351e-05\\n',\n",
       " '0:leaf=-4.7753274e-05\\n',\n",
       " '0:leaf=-4.29779939e-05\\n',\n",
       " '0:leaf=-3.86802385e-05\\n',\n",
       " '0:leaf=-3.48122521e-05\\n',\n",
       " '0:leaf=-3.13310593e-05\\n',\n",
       " '0:leaf=-2.81979865e-05\\n',\n",
       " '0:leaf=-2.53782182e-05\\n',\n",
       " '0:leaf=-2.28404206e-05\\n',\n",
       " '0:leaf=-2.05564011e-05\\n',\n",
       " '0:leaf=-1.85007812e-05\\n',\n",
       " '0:leaf=-1.66507216e-05\\n',\n",
       " '0:leaf=-1.4985666e-05\\n',\n",
       " '0:leaf=-1.34871143e-05\\n',\n",
       " '0:leaf=-1.21384164e-05\\n',\n",
       " '0:leaf=-1.09245875e-05\\n',\n",
       " '0:leaf=-9.83213886e-06\\n',\n",
       " '0:leaf=-8.84893507e-06\\n',\n",
       " '0:leaf=-7.96405129e-06\\n',\n",
       " '0:leaf=-7.16765362e-06\\n',\n",
       " '0:leaf=-6.45089449e-06\\n',\n",
       " '0:leaf=-5.80581172e-06\\n',\n",
       " '0:leaf=-5.22523669e-06\\n',\n",
       " '0:leaf=-4.70271834e-06\\n',\n",
       " '0:leaf=-4.23245137e-06\\n',\n",
       " '0:leaf=-3.80921051e-06\\n',\n",
       " '0:leaf=-3.42829344e-06\\n',\n",
       " '0:leaf=-3.08546737e-06\\n',\n",
       " '0:leaf=-2.77692357e-06\\n',\n",
       " '0:leaf=-2.49923414e-06\\n',\n",
       " '0:leaf=-2.24931318e-06\\n',\n",
       " '0:leaf=-2.02438423e-06\\n',\n",
       " '0:leaf=-1.82194788e-06\\n',\n",
       " '0:leaf=-1.63975494e-06\\n',\n",
       " '0:leaf=-1.475781e-06\\n',\n",
       " '0:leaf=-1.32820446e-06\\n',\n",
       " '0:leaf=-1.19538538e-06\\n',\n",
       " '0:leaf=-1.07584799e-06\\n',\n",
       " '0:leaf=-9.68264317e-07\\n',\n",
       " '0:leaf=-8.71438829e-07\\n',\n",
       " '0:leaf=-7.84295878e-07\\n',\n",
       " '0:leaf=-7.05867023e-07\\n',\n",
       " '0:leaf=-6.35281083e-07\\n',\n",
       " '0:leaf=-5.7175356e-07\\n',\n",
       " '0:leaf=-5.14578801e-07\\n',\n",
       " '0:leaf=-4.63121438e-07\\n',\n",
       " '0:leaf=-4.1680974e-07\\n',\n",
       " '0:leaf=-3.75129162e-07\\n',\n",
       " '0:leaf=-3.37616626e-07\\n',\n",
       " '0:leaf=-3.03855302e-07\\n',\n",
       " '0:leaf=-2.73470079e-07\\n',\n",
       " '0:leaf=-2.46123335e-07\\n',\n",
       " '0:leaf=-2.21511257e-07\\n',\n",
       " '0:leaf=-1.99360329e-07\\n',\n",
       " '0:leaf=-1.79424504e-07\\n',\n",
       " '0:leaf=-1.61482234e-07\\n',\n",
       " '0:leaf=-1.4533417e-07\\n',\n",
       " '0:leaf=-1.30800899e-07\\n',\n",
       " '0:leaf=-1.17720923e-07\\n',\n",
       " '0:leaf=-1.05948963e-07\\n',\n",
       " '0:leaf=-9.53541672e-08\\n',\n",
       " '0:leaf=-8.58188471e-08\\n',\n",
       " '0:leaf=-7.7237047e-08\\n',\n",
       " '0:leaf=-6.95134119e-08\\n',\n",
       " '0:leaf=-6.25621439e-08\\n',\n",
       " '0:leaf=-5.63059928e-08\\n',\n",
       " '0:leaf=-5.06754496e-08\\n',\n",
       " '0:leaf=-4.56079512e-08\\n',\n",
       " '0:leaf=-4.10472012e-08\\n',\n",
       " '0:leaf=-3.69425202e-08\\n',\n",
       " '0:leaf=-3.3248309e-08\\n',\n",
       " '0:leaf=-2.9923509e-08\\n',\n",
       " '0:leaf=-2.69311897e-08\\n',\n",
       " '0:leaf=-2.4238096e-08\\n',\n",
       " '0:leaf=-2.18143121e-08\\n',\n",
       " '0:leaf=-1.96329033e-08\\n',\n",
       " '0:leaf=-1.76696329e-08\\n',\n",
       " '0:leaf=-1.59026854e-08\\n',\n",
       " '0:leaf=-1.4312433e-08\\n',\n",
       " '0:leaf=-1.28812037e-08\\n',\n",
       " '0:leaf=-1.15930971e-08\\n',\n",
       " '0:leaf=-1.04337987e-08\\n',\n",
       " '0:leaf=-9.39042888e-09\\n',\n",
       " '0:leaf=-8.45139603e-09\\n',\n",
       " '0:leaf=-7.60626495e-09\\n',\n",
       " '0:leaf=-6.84564538e-09\\n',\n",
       " '0:leaf=-6.16108764e-09\\n',\n",
       " '0:leaf=-5.54498492e-09\\n',\n",
       " '0:leaf=-4.99049246e-09\\n',\n",
       " '0:leaf=-4.4914481e-09\\n',\n",
       " '0:leaf=-4.04230782e-09\\n',\n",
       " '0:leaf=-3.63808073e-09\\n',\n",
       " '0:leaf=-3.27427618e-09\\n',\n",
       " '0:leaf=-2.94685187e-09\\n',\n",
       " '0:leaf=-2.65216982e-09\\n',\n",
       " '0:leaf=-2.3869553e-09\\n',\n",
       " '0:leaf=-2.14826223e-09\\n',\n",
       " '0:leaf=-1.93343808e-09\\n',\n",
       " '0:leaf=-1.74009629e-09\\n',\n",
       " '0:leaf=-1.56608848e-09\\n',\n",
       " '0:leaf=-1.40948109e-09\\n',\n",
       " '0:leaf=-1.26853439e-09\\n',\n",
       " '0:leaf=-1.14168219e-09\\n',\n",
       " '0:leaf=-1.02751507e-09\\n',\n",
       " '0:leaf=-9.24764654e-10\\n',\n",
       " '0:leaf=-8.32289071e-10\\n',\n",
       " '0:leaf=-7.49061091e-10\\n',\n",
       " '0:leaf=-6.74155676e-10\\n',\n",
       " '0:leaf=-6.06740824e-10\\n',\n",
       " '0:leaf=-5.46067302e-10\\n',\n",
       " '0:leaf=-4.91461094e-10\\n',\n",
       " '0:leaf=-4.42315518e-10\\n',\n",
       " '0:leaf=-3.98084427e-10\\n',\n",
       " '0:leaf=-3.58276353e-10\\n',\n",
       " '0:leaf=-3.22449067e-10\\n',\n",
       " '0:leaf=-2.90204499e-10\\n',\n",
       " '0:leaf=-2.61184324e-10\\n',\n",
       " '0:leaf=-2.35066133e-10\\n',\n",
       " '0:leaf=-2.11559756e-10\\n',\n",
       " '0:leaf=-1.90404012e-10\\n',\n",
       " '0:leaf=-1.71363784e-10\\n',\n",
       " '0:leaf=-1.54227575e-10\\n',\n",
       " '0:leaf=-1.38804968e-10\\n',\n",
       " '0:leaf=-1.24924612e-10\\n',\n",
       " '0:leaf=-1.12432265e-10\\n',\n",
       " '0:leaf=-1.01189147e-10\\n',\n",
       " '0:leaf=-9.10703388e-11\\n',\n",
       " '0:leaf=-8.19634013e-11\\n',\n",
       " '0:leaf=-7.37671382e-11\\n',\n",
       " '0:leaf=-6.63904973e-11\\n',\n",
       " '0:leaf=-5.97515162e-11\\n',\n",
       " '0:leaf=-5.37764173e-11\\n',\n",
       " '0:leaf=-4.83988301e-11\\n',\n",
       " '0:leaf=-4.35589932e-11\\n',\n",
       " '0:leaf=-3.92031373e-11\\n']"
      ]
     },
     "execution_count": 53,
     "metadata": {},
     "output_type": "execute_result"
    }
   ],
   "source": [
    "model2.get_dump()"
   ]
  }
 ],
 "metadata": {
  "kernelspec": {
   "display_name": "Python 3 (General DS)",
   "language": "python",
   "name": "python3"
  },
  "language_info": {
   "codemirror_mode": {
    "name": "ipython",
    "version": 3
   },
   "file_extension": ".py",
   "mimetype": "text/x-python",
   "name": "python",
   "nbconvert_exporter": "python",
   "pygments_lexer": "ipython3",
   "version": "3.6.4"
  }
 },
 "nbformat": 4,
 "nbformat_minor": 2
}

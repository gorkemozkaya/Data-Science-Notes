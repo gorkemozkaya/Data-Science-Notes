{
  "nbformat": 4,
  "nbformat_minor": 0,
  "metadata": {
    "colab": {
      "name": "xgboost gamma regression",
      "provenance": [],
      "authorship_tag": "ABX9TyMLCq13QuXt3fR9hu77wUdv",
      "include_colab_link": true
    },
    "kernelspec": {
      "name": "python3",
      "display_name": "Python 3"
    }
  },
  "cells": [
    {
      "cell_type": "markdown",
      "metadata": {
        "id": "view-in-github",
        "colab_type": "text"
      },
      "source": [
        "<a href=\"https://colab.research.google.com/github/gorkemozkaya/ds_debugging/blob/master/xgboost_gamma_regression.ipynb\" target=\"_parent\"><img src=\"https://colab.research.google.com/assets/colab-badge.svg\" alt=\"Open In Colab\"/></a>"
      ]
    },
    {
      "cell_type": "code",
      "metadata": {
        "id": "gmqZBicV0ouN"
      },
      "source": [
        "!pip install xgboost -q --upgrade"
      ],
      "execution_count": 1,
      "outputs": []
    },
    {
      "cell_type": "code",
      "metadata": {
        "id": "4RQkWMQvnzc0"
      },
      "source": [
        "import xgboost as xgb\n",
        "import numpy as np"
      ],
      "execution_count": 2,
      "outputs": []
    },
    {
      "cell_type": "code",
      "metadata": {
        "id": "vmijrOyTn02U",
        "colab": {
          "base_uri": "https://localhost:8080/",
          "height": 35
        },
        "outputId": "81adfce8-ad86-45c6-d4af-4cca8bcd3d9f"
      },
      "source": [
        "xgb.__version__"
      ],
      "execution_count": 3,
      "outputs": [
        {
          "output_type": "execute_result",
          "data": {
            "application/vnd.google.colaboratory.intrinsic+json": {
              "type": "string"
            },
            "text/plain": [
              "'1.3.0'"
            ]
          },
          "metadata": {
            "tags": []
          },
          "execution_count": 3
        }
      ]
    },
    {
      "cell_type": "code",
      "metadata": {
        "id": "tHvXCM_rn22g"
      },
      "source": [
        "def gen_data(N = 10000):\n",
        "  X = np.random.normal(0,1, (N, 4))\n",
        "  y = np.exp(2 + X.dot(np.array([1,2,3,4]).T))\n",
        "  y = np.random.gamma(y, 1)\n",
        "  dtrain = xgb.DMatrix(X, y)\n",
        "  return dtrain"
      ],
      "execution_count": 4,
      "outputs": []
    },
    {
      "cell_type": "code",
      "metadata": {
        "id": "e3fkE0pGSIy-"
      },
      "source": [
        "dtrain = gen_data()\n",
        "dtest = gen_data()"
      ],
      "execution_count": 5,
      "outputs": []
    },
    {
      "cell_type": "code",
      "metadata": {
        "id": "SzaVmrhQBz4w"
      },
      "source": [
        "param = {'booster':'gblinear', 'objective':'reg:gamma'}"
      ],
      "execution_count": 6,
      "outputs": []
    },
    {
      "cell_type": "code",
      "metadata": {
        "id": "lBP8cgyUSL4_",
        "colab": {
          "base_uri": "https://localhost:8080/"
        },
        "outputId": "26e8e6d1-ab29-43b9-ce75-7dd5a4ee91c6"
      },
      "source": [
        "dtrain.get_label()"
      ],
      "execution_count": 7,
      "outputs": [
        {
          "output_type": "execute_result",
          "data": {
            "text/plain": [
              "array([3.17552802e-03, 9.48605957e+01, 2.06819922e+03, ...,\n",
              "       2.78219681e+01, 1.06689075e-08, 1.32184769e+02], dtype=float32)"
            ]
          },
          "metadata": {
            "tags": []
          },
          "execution_count": 7
        }
      ]
    },
    {
      "cell_type": "code",
      "metadata": {
        "id": "VizH6I8QB13Y",
        "colab": {
          "base_uri": "https://localhost:8080/"
        },
        "outputId": "f9e1ca53-f619-4ec0-85f1-95dae85c847f"
      },
      "source": [
        "model = xgb.train(param, dtrain, num_boost_round = 100, evals = [(dtrain, 'train'), (dtest, 'test')])"
      ],
      "execution_count": 8,
      "outputs": [
        {
          "output_type": "stream",
          "text": [
            "[0]\ttrain-gamma-nloglik:nan\ttest-gamma-nloglik:nan\n",
            "[1]\ttrain-gamma-nloglik:nan\ttest-gamma-nloglik:nan\n",
            "[2]\ttrain-gamma-nloglik:nan\ttest-gamma-nloglik:nan\n",
            "[3]\ttrain-gamma-nloglik:nan\ttest-gamma-nloglik:nan\n",
            "[4]\ttrain-gamma-nloglik:nan\ttest-gamma-nloglik:nan\n",
            "[5]\ttrain-gamma-nloglik:nan\ttest-gamma-nloglik:nan\n",
            "[6]\ttrain-gamma-nloglik:nan\ttest-gamma-nloglik:nan\n",
            "[7]\ttrain-gamma-nloglik:nan\ttest-gamma-nloglik:nan\n",
            "[8]\ttrain-gamma-nloglik:nan\ttest-gamma-nloglik:nan\n",
            "[9]\ttrain-gamma-nloglik:nan\ttest-gamma-nloglik:nan\n",
            "[10]\ttrain-gamma-nloglik:nan\ttest-gamma-nloglik:nan\n",
            "[11]\ttrain-gamma-nloglik:nan\ttest-gamma-nloglik:nan\n",
            "[12]\ttrain-gamma-nloglik:nan\ttest-gamma-nloglik:nan\n",
            "[13]\ttrain-gamma-nloglik:nan\ttest-gamma-nloglik:nan\n",
            "[14]\ttrain-gamma-nloglik:nan\ttest-gamma-nloglik:nan\n",
            "[15]\ttrain-gamma-nloglik:nan\ttest-gamma-nloglik:nan\n",
            "[16]\ttrain-gamma-nloglik:nan\ttest-gamma-nloglik:nan\n",
            "[17]\ttrain-gamma-nloglik:nan\ttest-gamma-nloglik:nan\n",
            "[18]\ttrain-gamma-nloglik:nan\ttest-gamma-nloglik:nan\n",
            "[19]\ttrain-gamma-nloglik:nan\ttest-gamma-nloglik:nan\n",
            "[20]\ttrain-gamma-nloglik:nan\ttest-gamma-nloglik:nan\n",
            "[21]\ttrain-gamma-nloglik:nan\ttest-gamma-nloglik:nan\n",
            "[22]\ttrain-gamma-nloglik:nan\ttest-gamma-nloglik:nan\n",
            "[23]\ttrain-gamma-nloglik:nan\ttest-gamma-nloglik:nan\n",
            "[24]\ttrain-gamma-nloglik:nan\ttest-gamma-nloglik:nan\n",
            "[25]\ttrain-gamma-nloglik:nan\ttest-gamma-nloglik:nan\n",
            "[26]\ttrain-gamma-nloglik:nan\ttest-gamma-nloglik:nan\n",
            "[27]\ttrain-gamma-nloglik:nan\ttest-gamma-nloglik:nan\n",
            "[28]\ttrain-gamma-nloglik:nan\ttest-gamma-nloglik:nan\n",
            "[29]\ttrain-gamma-nloglik:nan\ttest-gamma-nloglik:nan\n",
            "[30]\ttrain-gamma-nloglik:nan\ttest-gamma-nloglik:nan\n",
            "[31]\ttrain-gamma-nloglik:nan\ttest-gamma-nloglik:nan\n",
            "[32]\ttrain-gamma-nloglik:nan\ttest-gamma-nloglik:nan\n",
            "[33]\ttrain-gamma-nloglik:nan\ttest-gamma-nloglik:nan\n",
            "[34]\ttrain-gamma-nloglik:nan\ttest-gamma-nloglik:nan\n",
            "[35]\ttrain-gamma-nloglik:nan\ttest-gamma-nloglik:nan\n",
            "[36]\ttrain-gamma-nloglik:nan\ttest-gamma-nloglik:nan\n",
            "[37]\ttrain-gamma-nloglik:nan\ttest-gamma-nloglik:nan\n",
            "[38]\ttrain-gamma-nloglik:nan\ttest-gamma-nloglik:nan\n",
            "[39]\ttrain-gamma-nloglik:nan\ttest-gamma-nloglik:nan\n",
            "[40]\ttrain-gamma-nloglik:nan\ttest-gamma-nloglik:nan\n",
            "[41]\ttrain-gamma-nloglik:nan\ttest-gamma-nloglik:nan\n",
            "[42]\ttrain-gamma-nloglik:nan\ttest-gamma-nloglik:nan\n",
            "[43]\ttrain-gamma-nloglik:nan\ttest-gamma-nloglik:nan\n",
            "[44]\ttrain-gamma-nloglik:nan\ttest-gamma-nloglik:nan\n",
            "[45]\ttrain-gamma-nloglik:nan\ttest-gamma-nloglik:nan\n",
            "[46]\ttrain-gamma-nloglik:nan\ttest-gamma-nloglik:nan\n",
            "[47]\ttrain-gamma-nloglik:nan\ttest-gamma-nloglik:nan\n",
            "[48]\ttrain-gamma-nloglik:nan\ttest-gamma-nloglik:nan\n",
            "[49]\ttrain-gamma-nloglik:nan\ttest-gamma-nloglik:nan\n",
            "[50]\ttrain-gamma-nloglik:nan\ttest-gamma-nloglik:nan\n",
            "[51]\ttrain-gamma-nloglik:nan\ttest-gamma-nloglik:nan\n",
            "[52]\ttrain-gamma-nloglik:nan\ttest-gamma-nloglik:nan\n",
            "[53]\ttrain-gamma-nloglik:nan\ttest-gamma-nloglik:nan\n",
            "[54]\ttrain-gamma-nloglik:nan\ttest-gamma-nloglik:nan\n",
            "[55]\ttrain-gamma-nloglik:nan\ttest-gamma-nloglik:nan\n",
            "[56]\ttrain-gamma-nloglik:nan\ttest-gamma-nloglik:nan\n",
            "[57]\ttrain-gamma-nloglik:nan\ttest-gamma-nloglik:nan\n",
            "[58]\ttrain-gamma-nloglik:nan\ttest-gamma-nloglik:nan\n",
            "[59]\ttrain-gamma-nloglik:nan\ttest-gamma-nloglik:nan\n",
            "[60]\ttrain-gamma-nloglik:nan\ttest-gamma-nloglik:nan\n",
            "[61]\ttrain-gamma-nloglik:nan\ttest-gamma-nloglik:nan\n",
            "[62]\ttrain-gamma-nloglik:nan\ttest-gamma-nloglik:nan\n",
            "[63]\ttrain-gamma-nloglik:nan\ttest-gamma-nloglik:nan\n",
            "[64]\ttrain-gamma-nloglik:nan\ttest-gamma-nloglik:nan\n",
            "[65]\ttrain-gamma-nloglik:nan\ttest-gamma-nloglik:nan\n",
            "[66]\ttrain-gamma-nloglik:nan\ttest-gamma-nloglik:nan\n",
            "[67]\ttrain-gamma-nloglik:nan\ttest-gamma-nloglik:nan\n",
            "[68]\ttrain-gamma-nloglik:nan\ttest-gamma-nloglik:nan\n",
            "[69]\ttrain-gamma-nloglik:nan\ttest-gamma-nloglik:nan\n",
            "[70]\ttrain-gamma-nloglik:nan\ttest-gamma-nloglik:nan\n",
            "[71]\ttrain-gamma-nloglik:nan\ttest-gamma-nloglik:nan\n",
            "[72]\ttrain-gamma-nloglik:nan\ttest-gamma-nloglik:nan\n",
            "[73]\ttrain-gamma-nloglik:nan\ttest-gamma-nloglik:nan\n",
            "[74]\ttrain-gamma-nloglik:nan\ttest-gamma-nloglik:nan\n",
            "[75]\ttrain-gamma-nloglik:nan\ttest-gamma-nloglik:nan\n",
            "[76]\ttrain-gamma-nloglik:nan\ttest-gamma-nloglik:nan\n",
            "[77]\ttrain-gamma-nloglik:nan\ttest-gamma-nloglik:nan\n",
            "[78]\ttrain-gamma-nloglik:nan\ttest-gamma-nloglik:nan\n",
            "[79]\ttrain-gamma-nloglik:nan\ttest-gamma-nloglik:nan\n",
            "[80]\ttrain-gamma-nloglik:nan\ttest-gamma-nloglik:nan\n",
            "[81]\ttrain-gamma-nloglik:nan\ttest-gamma-nloglik:nan\n",
            "[82]\ttrain-gamma-nloglik:nan\ttest-gamma-nloglik:nan\n",
            "[83]\ttrain-gamma-nloglik:nan\ttest-gamma-nloglik:nan\n",
            "[84]\ttrain-gamma-nloglik:nan\ttest-gamma-nloglik:nan\n",
            "[85]\ttrain-gamma-nloglik:nan\ttest-gamma-nloglik:nan\n",
            "[86]\ttrain-gamma-nloglik:nan\ttest-gamma-nloglik:nan\n",
            "[87]\ttrain-gamma-nloglik:nan\ttest-gamma-nloglik:nan\n",
            "[88]\ttrain-gamma-nloglik:nan\ttest-gamma-nloglik:nan\n",
            "[89]\ttrain-gamma-nloglik:nan\ttest-gamma-nloglik:nan\n",
            "[90]\ttrain-gamma-nloglik:nan\ttest-gamma-nloglik:nan\n",
            "[91]\ttrain-gamma-nloglik:nan\ttest-gamma-nloglik:nan\n",
            "[92]\ttrain-gamma-nloglik:nan\ttest-gamma-nloglik:nan\n",
            "[93]\ttrain-gamma-nloglik:nan\ttest-gamma-nloglik:nan\n",
            "[94]\ttrain-gamma-nloglik:nan\ttest-gamma-nloglik:nan\n",
            "[95]\ttrain-gamma-nloglik:nan\ttest-gamma-nloglik:nan\n",
            "[96]\ttrain-gamma-nloglik:nan\ttest-gamma-nloglik:nan\n",
            "[97]\ttrain-gamma-nloglik:nan\ttest-gamma-nloglik:nan\n",
            "[98]\ttrain-gamma-nloglik:nan\ttest-gamma-nloglik:nan\n",
            "[99]\ttrain-gamma-nloglik:nan\ttest-gamma-nloglik:nan\n"
          ],
          "name": "stdout"
        }
      ]
    },
    {
      "cell_type": "code",
      "metadata": {
        "id": "AZJFJciNCnvL",
        "colab": {
          "base_uri": "https://localhost:8080/"
        },
        "outputId": "263f7c2b-d10d-4d5a-f4c2-66b3c189cc9b"
      },
      "source": [
        "model.predict(dtrain)"
      ],
      "execution_count": 9,
      "outputs": [
        {
          "output_type": "execute_result",
          "data": {
            "text/plain": [
              "array([1.4153421e-01, 9.8405769e+01, 2.0999978e+03, ..., 3.1885246e+01,\n",
              "       7.2542109e-02, 1.4186353e+02], dtype=float32)"
            ]
          },
          "metadata": {
            "tags": []
          },
          "execution_count": 9
        }
      ]
    },
    {
      "cell_type": "code",
      "metadata": {
        "id": "KotuzGQQC9O2",
        "colab": {
          "base_uri": "https://localhost:8080/"
        },
        "outputId": "6e0112ee-2060-4794-8093-a01b4352354d"
      },
      "source": [
        "print(model.get_dump()[0])"
      ],
      "execution_count": 10,
      "outputs": [
        {
          "output_type": "stream",
          "text": [
            "bias:\n",
            "2.69498\n",
            "weight:\n",
            "1.00346\n",
            "2.06142\n",
            "3.0172\n",
            "4.04308\n",
            "\n"
          ],
          "name": "stdout"
        }
      ]
    },
    {
      "cell_type": "code",
      "metadata": {
        "id": "PaXxtJzKOQ_V"
      },
      "source": [
        ""
      ],
      "execution_count": null,
      "outputs": []
    }
  ]
}
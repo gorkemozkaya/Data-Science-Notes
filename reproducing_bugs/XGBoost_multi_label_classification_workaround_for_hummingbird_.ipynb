{
  "cells": [
    {
      "cell_type": "markdown",
      "metadata": {
        "id": "view-in-github",
        "colab_type": "text"
      },
      "source": [
        "<a href=\"https://colab.research.google.com/github/gorkemozkaya/Data-Science-Notes/blob/master/reproducing_bugs/XGBoost_multi_label_classification_workaround_for_hummingbird_.ipynb\" target=\"_parent\"><img src=\"https://colab.research.google.com/assets/colab-badge.svg\" alt=\"Open In Colab\"/></a>"
      ]
    },
    {
      "cell_type": "markdown",
      "source": [
        "# Description:\n",
        "\n",
        "Hummingbird by defauld does not support XGBoost multi-label classifier. This notebook suggests a workaround. Since a multi-label classifier is essentially a separate binary-classifier for each class. We will extract a binary classifier for each class, and convert each one of them to Pytorch-jit separately.  \n",
        "\n",
        "### In this example, the multi-label model is a tree-ensemble with 100 trees for each of the 5 classes.\n",
        "### We are going to extract a binary classifier with 100 trees, corresponding to the first class"
      ],
      "metadata": {
        "id": "vAxBW5VvdM_O"
      },
      "id": "vAxBW5VvdM_O"
    },
    {
      "cell_type": "markdown",
      "source": [
        "### Installations:"
      ],
      "metadata": {
        "id": "JICdQoYq4ACg"
      },
      "id": "JICdQoYq4ACg"
    },
    {
      "cell_type": "code",
      "source": [
        "!pip install seaborn hummingbird_ml==0.4.8 torch==1.10.2\n",
        "!pip install xgboost==1.6.0\n",
        "!pip install xgboost-ray==0.1.16\n",
        "!pip install hummingbird-ml==0.4.8"
      ],
      "metadata": {
        "id": "WXi9dKlZOnrg",
        "colab": {
          "base_uri": "https://localhost:8080/"
        },
        "outputId": "ee6e80fd-ea59-403e-882b-44117fb90061"
      },
      "id": "WXi9dKlZOnrg",
      "execution_count": 1,
      "outputs": [
        {
          "output_type": "stream",
          "name": "stdout",
          "text": [
            "Requirement already satisfied: seaborn in /usr/local/lib/python3.10/dist-packages (0.12.2)\n",
            "Requirement already satisfied: hummingbird_ml==0.4.8 in /usr/local/lib/python3.10/dist-packages (0.4.8)\n",
            "\u001b[31mERROR: Could not find a version that satisfies the requirement torch==1.10.2 (from versions: 1.11.0, 1.12.0, 1.12.1, 1.13.0, 1.13.1, 2.0.0, 2.0.1)\u001b[0m\u001b[31m\n",
            "\u001b[0m\u001b[31mERROR: No matching distribution found for torch==1.10.2\u001b[0m\u001b[31m\n",
            "\u001b[0mRequirement already satisfied: xgboost==1.6.0 in /usr/local/lib/python3.10/dist-packages (1.6.0)\n",
            "Requirement already satisfied: numpy in /usr/local/lib/python3.10/dist-packages (from xgboost==1.6.0) (1.25.1)\n",
            "Requirement already satisfied: scipy in /usr/local/lib/python3.10/dist-packages (from xgboost==1.6.0) (1.11.1)\n",
            "Requirement already satisfied: xgboost-ray==0.1.16 in /usr/local/lib/python3.10/dist-packages (0.1.16)\n",
            "Requirement already satisfied: ray>=1.10 in /usr/local/lib/python3.10/dist-packages (from xgboost-ray==0.1.16) (2.5.1)\n",
            "Requirement already satisfied: numpy>=1.16 in /usr/local/lib/python3.10/dist-packages (from xgboost-ray==0.1.16) (1.25.1)\n",
            "Requirement already satisfied: pandas in /usr/local/lib/python3.10/dist-packages (from xgboost-ray==0.1.16) (1.5.3)\n",
            "Requirement already satisfied: wrapt>=1.12.1 in /usr/local/lib/python3.10/dist-packages (from xgboost-ray==0.1.16) (1.14.1)\n",
            "Requirement already satisfied: xgboost>=0.90 in /usr/local/lib/python3.10/dist-packages (from xgboost-ray==0.1.16) (1.6.0)\n",
            "Requirement already satisfied: packaging in /usr/local/lib/python3.10/dist-packages (from xgboost-ray==0.1.16) (23.1)\n",
            "Requirement already satisfied: attrs in /usr/local/lib/python3.10/dist-packages (from ray>=1.10->xgboost-ray==0.1.16) (23.1.0)\n",
            "Requirement already satisfied: click>=7.0 in /usr/local/lib/python3.10/dist-packages (from ray>=1.10->xgboost-ray==0.1.16) (8.1.4)\n",
            "Requirement already satisfied: filelock in /usr/local/lib/python3.10/dist-packages (from ray>=1.10->xgboost-ray==0.1.16) (3.12.2)\n",
            "Requirement already satisfied: jsonschema in /usr/local/lib/python3.10/dist-packages (from ray>=1.10->xgboost-ray==0.1.16) (4.3.3)\n",
            "Requirement already satisfied: msgpack<2.0.0,>=1.0.0 in /usr/local/lib/python3.10/dist-packages (from ray>=1.10->xgboost-ray==0.1.16) (1.0.5)\n",
            "Requirement already satisfied: protobuf!=3.19.5,>=3.15.3 in /usr/local/lib/python3.10/dist-packages (from ray>=1.10->xgboost-ray==0.1.16) (3.20.3)\n",
            "Requirement already satisfied: pyyaml in /usr/local/lib/python3.10/dist-packages (from ray>=1.10->xgboost-ray==0.1.16) (6.0)\n",
            "Requirement already satisfied: aiosignal in /usr/local/lib/python3.10/dist-packages (from ray>=1.10->xgboost-ray==0.1.16) (1.3.1)\n",
            "Requirement already satisfied: frozenlist in /usr/local/lib/python3.10/dist-packages (from ray>=1.10->xgboost-ray==0.1.16) (1.3.3)\n",
            "Requirement already satisfied: requests in /usr/local/lib/python3.10/dist-packages (from ray>=1.10->xgboost-ray==0.1.16) (2.27.1)\n",
            "Requirement already satisfied: grpcio<=1.51.3,>=1.42.0 in /usr/local/lib/python3.10/dist-packages (from ray>=1.10->xgboost-ray==0.1.16) (1.51.3)\n",
            "Requirement already satisfied: scipy in /usr/local/lib/python3.10/dist-packages (from xgboost>=0.90->xgboost-ray==0.1.16) (1.11.1)\n",
            "Requirement already satisfied: python-dateutil>=2.8.1 in /usr/local/lib/python3.10/dist-packages (from pandas->xgboost-ray==0.1.16) (2.8.2)\n",
            "Requirement already satisfied: pytz>=2020.1 in /usr/local/lib/python3.10/dist-packages (from pandas->xgboost-ray==0.1.16) (2022.7.1)\n",
            "Requirement already satisfied: six>=1.5 in /usr/local/lib/python3.10/dist-packages (from python-dateutil>=2.8.1->pandas->xgboost-ray==0.1.16) (1.16.0)\n",
            "Requirement already satisfied: pyrsistent!=0.17.0,!=0.17.1,!=0.17.2,>=0.14.0 in /usr/local/lib/python3.10/dist-packages (from jsonschema->ray>=1.10->xgboost-ray==0.1.16) (0.19.3)\n",
            "Requirement already satisfied: urllib3<1.27,>=1.21.1 in /usr/local/lib/python3.10/dist-packages (from requests->ray>=1.10->xgboost-ray==0.1.16) (1.26.16)\n",
            "Requirement already satisfied: certifi>=2017.4.17 in /usr/local/lib/python3.10/dist-packages (from requests->ray>=1.10->xgboost-ray==0.1.16) (2023.5.7)\n",
            "Requirement already satisfied: charset-normalizer~=2.0.0 in /usr/local/lib/python3.10/dist-packages (from requests->ray>=1.10->xgboost-ray==0.1.16) (2.0.12)\n",
            "Requirement already satisfied: idna<4,>=2.5 in /usr/local/lib/python3.10/dist-packages (from requests->ray>=1.10->xgboost-ray==0.1.16) (3.4)\n",
            "Requirement already satisfied: hummingbird-ml==0.4.8 in /usr/local/lib/python3.10/dist-packages (0.4.8)\n",
            "Requirement already satisfied: dill in /usr/local/lib/python3.10/dist-packages (from hummingbird-ml==0.4.8) (0.3.6)\n",
            "Requirement already satisfied: numpy>=1.15 in /usr/local/lib/python3.10/dist-packages (from hummingbird-ml==0.4.8) (1.25.1)\n",
            "Requirement already satisfied: onnxconverter-common>=1.6.0 in /usr/local/lib/python3.10/dist-packages (from hummingbird-ml==0.4.8) (1.13.0)\n",
            "Requirement already satisfied: protobuf>=3.20.2 in /usr/local/lib/python3.10/dist-packages (from hummingbird-ml==0.4.8) (3.20.3)\n",
            "Requirement already satisfied: psutil in /usr/local/lib/python3.10/dist-packages (from hummingbird-ml==0.4.8) (5.9.5)\n",
            "Requirement already satisfied: scikit-learn in /usr/local/lib/python3.10/dist-packages (from hummingbird-ml==0.4.8) (1.2.2)\n",
            "Requirement already satisfied: scipy in /usr/local/lib/python3.10/dist-packages (from hummingbird-ml==0.4.8) (1.11.1)\n",
            "Requirement already satisfied: torch>1.7.0 in /usr/local/lib/python3.10/dist-packages (from hummingbird-ml==0.4.8) (2.0.1+cu118)\n",
            "Requirement already satisfied: onnx in /usr/local/lib/python3.10/dist-packages (from onnxconverter-common>=1.6.0->hummingbird-ml==0.4.8) (1.14.0)\n",
            "Requirement already satisfied: packaging in /usr/local/lib/python3.10/dist-packages (from onnxconverter-common>=1.6.0->hummingbird-ml==0.4.8) (23.1)\n",
            "Requirement already satisfied: filelock in /usr/local/lib/python3.10/dist-packages (from torch>1.7.0->hummingbird-ml==0.4.8) (3.12.2)\n",
            "Requirement already satisfied: typing-extensions in /usr/local/lib/python3.10/dist-packages (from torch>1.7.0->hummingbird-ml==0.4.8) (4.7.1)\n",
            "Requirement already satisfied: sympy in /usr/local/lib/python3.10/dist-packages (from torch>1.7.0->hummingbird-ml==0.4.8) (1.11.1)\n",
            "Requirement already satisfied: networkx in /usr/local/lib/python3.10/dist-packages (from torch>1.7.0->hummingbird-ml==0.4.8) (3.1)\n",
            "Requirement already satisfied: jinja2 in /usr/local/lib/python3.10/dist-packages (from torch>1.7.0->hummingbird-ml==0.4.8) (3.1.2)\n",
            "Requirement already satisfied: triton==2.0.0 in /usr/local/lib/python3.10/dist-packages (from torch>1.7.0->hummingbird-ml==0.4.8) (2.0.0)\n",
            "Requirement already satisfied: cmake in /usr/local/lib/python3.10/dist-packages (from triton==2.0.0->torch>1.7.0->hummingbird-ml==0.4.8) (3.25.2)\n",
            "Requirement already satisfied: lit in /usr/local/lib/python3.10/dist-packages (from triton==2.0.0->torch>1.7.0->hummingbird-ml==0.4.8) (16.0.6)\n",
            "Requirement already satisfied: joblib>=1.1.1 in /usr/local/lib/python3.10/dist-packages (from scikit-learn->hummingbird-ml==0.4.8) (1.3.1)\n",
            "Requirement already satisfied: threadpoolctl>=2.0.0 in /usr/local/lib/python3.10/dist-packages (from scikit-learn->hummingbird-ml==0.4.8) (3.1.0)\n",
            "Requirement already satisfied: MarkupSafe>=2.0 in /usr/local/lib/python3.10/dist-packages (from jinja2->torch>1.7.0->hummingbird-ml==0.4.8) (2.1.3)\n",
            "Requirement already satisfied: mpmath>=0.19 in /usr/local/lib/python3.10/dist-packages (from sympy->torch>1.7.0->hummingbird-ml==0.4.8) (1.3.0)\n"
          ]
        }
      ]
    },
    {
      "cell_type": "code",
      "execution_count": 2,
      "id": "207b7c45-32ad-49f6-8855-c5c4535d02f6",
      "metadata": {
        "scrolled": true,
        "colab": {
          "base_uri": "https://localhost:8080/"
        },
        "id": "207b7c45-32ad-49f6-8855-c5c4535d02f6",
        "outputId": "808a1c3a-f98e-4735-a8fc-8bb40cad91c9"
      },
      "outputs": [
        {
          "output_type": "stream",
          "name": "stdout",
          "text": [
            "array-record==0.4.0\n",
            "ray==2.5.1\n",
            "xarray==2022.12.0\n",
            "xarray-einstats==0.5.1\n",
            "xgboost-ray==0.1.16\n",
            "xgboost==1.6.0\n",
            "xgboost-ray==0.1.16\n",
            "hummingbird-ml==0.4.8\n"
          ]
        }
      ],
      "source": [
        "!pip freeze | grep ray\n",
        "!pip freeze | grep xgboost\n",
        "!pip freeze | grep hummingbird"
      ]
    },
    {
      "cell_type": "markdown",
      "source": [
        "### Imports and Setup"
      ],
      "metadata": {
        "id": "jDxvFKhH4FGj"
      },
      "id": "jDxvFKhH4FGj"
    },
    {
      "cell_type": "code",
      "source": [
        "import os\n",
        "import sys\n",
        "from matplotlib import pyplot as plt\n",
        "\n",
        "\n",
        "import xgboost as xgb\n",
        "from sklearn.metrics import mean_squared_error\n",
        "import pandas as pd\n",
        "import numpy as np\n",
        "import hummingbird\n",
        "from hummingbird.ml import convert\n",
        "print(xgb.__version__)\n",
        "print(hummingbird.__version__)"
      ],
      "metadata": {
        "colab": {
          "base_uri": "https://localhost:8080/"
        },
        "id": "GZRR2tTzPCwe",
        "outputId": "1e6757b7-c863-4cea-c6a2-0bcea73e6011"
      },
      "id": "GZRR2tTzPCwe",
      "execution_count": 3,
      "outputs": [
        {
          "output_type": "stream",
          "name": "stdout",
          "text": [
            "1.6.0\n",
            "0.4.8\n"
          ]
        }
      ]
    },
    {
      "cell_type": "markdown",
      "source": [
        "multi label classification"
      ],
      "metadata": {
        "id": "7ei5ARoFSBvh"
      },
      "id": "7ei5ARoFSBvh"
    },
    {
      "cell_type": "code",
      "source": [
        "from sklearn.datasets import make_multilabel_classification\n",
        "import numpy as np\n",
        "\n",
        "X, y = make_multilabel_classification(\n",
        "    n_samples=32, n_classes=5, n_labels=3, random_state=0\n",
        ")\n",
        "clf = xgb.XGBClassifier(tree_method=\"hist\")"
      ],
      "metadata": {
        "id": "fONnk6yFSEOf"
      },
      "id": "fONnk6yFSEOf",
      "execution_count": 4,
      "outputs": []
    },
    {
      "cell_type": "code",
      "source": [
        "clf.fit(X, y)\n"
      ],
      "metadata": {
        "colab": {
          "base_uri": "https://localhost:8080/",
          "height": 231
        },
        "id": "WWTFAUirSZUu",
        "outputId": "c0c6c20d-3d34-49a1-a2d8-dfaf1dbc9bce"
      },
      "id": "WWTFAUirSZUu",
      "execution_count": 5,
      "outputs": [
        {
          "output_type": "execute_result",
          "data": {
            "text/plain": [
              "XGBClassifier(base_score=0.5, booster='gbtree', callbacks=None,\n",
              "              colsample_bylevel=1, colsample_bynode=1, colsample_bytree=1,\n",
              "              early_stopping_rounds=None, enable_categorical=False,\n",
              "              eval_metric=None, gamma=0, gpu_id=-1, grow_policy='depthwise',\n",
              "              importance_type=None, interaction_constraints='',\n",
              "              learning_rate=0.300000012, max_bin=256, max_cat_to_onehot=4,\n",
              "              max_delta_step=0, max_depth=6, max_leaves=0, min_child_weight=1,\n",
              "              missing=nan, monotone_constraints='()', n_estimators=100,\n",
              "              n_jobs=0, num_parallel_tree=1, predictor='auto', random_state=0,\n",
              "              reg_alpha=0, reg_lambda=1, ...)"
            ],
            "text/html": [
              "<style>#sk-container-id-1 {color: black;background-color: white;}#sk-container-id-1 pre{padding: 0;}#sk-container-id-1 div.sk-toggleable {background-color: white;}#sk-container-id-1 label.sk-toggleable__label {cursor: pointer;display: block;width: 100%;margin-bottom: 0;padding: 0.3em;box-sizing: border-box;text-align: center;}#sk-container-id-1 label.sk-toggleable__label-arrow:before {content: \"▸\";float: left;margin-right: 0.25em;color: #696969;}#sk-container-id-1 label.sk-toggleable__label-arrow:hover:before {color: black;}#sk-container-id-1 div.sk-estimator:hover label.sk-toggleable__label-arrow:before {color: black;}#sk-container-id-1 div.sk-toggleable__content {max-height: 0;max-width: 0;overflow: hidden;text-align: left;background-color: #f0f8ff;}#sk-container-id-1 div.sk-toggleable__content pre {margin: 0.2em;color: black;border-radius: 0.25em;background-color: #f0f8ff;}#sk-container-id-1 input.sk-toggleable__control:checked~div.sk-toggleable__content {max-height: 200px;max-width: 100%;overflow: auto;}#sk-container-id-1 input.sk-toggleable__control:checked~label.sk-toggleable__label-arrow:before {content: \"▾\";}#sk-container-id-1 div.sk-estimator input.sk-toggleable__control:checked~label.sk-toggleable__label {background-color: #d4ebff;}#sk-container-id-1 div.sk-label input.sk-toggleable__control:checked~label.sk-toggleable__label {background-color: #d4ebff;}#sk-container-id-1 input.sk-hidden--visually {border: 0;clip: rect(1px 1px 1px 1px);clip: rect(1px, 1px, 1px, 1px);height: 1px;margin: -1px;overflow: hidden;padding: 0;position: absolute;width: 1px;}#sk-container-id-1 div.sk-estimator {font-family: monospace;background-color: #f0f8ff;border: 1px dotted black;border-radius: 0.25em;box-sizing: border-box;margin-bottom: 0.5em;}#sk-container-id-1 div.sk-estimator:hover {background-color: #d4ebff;}#sk-container-id-1 div.sk-parallel-item::after {content: \"\";width: 100%;border-bottom: 1px solid gray;flex-grow: 1;}#sk-container-id-1 div.sk-label:hover label.sk-toggleable__label {background-color: #d4ebff;}#sk-container-id-1 div.sk-serial::before {content: \"\";position: absolute;border-left: 1px solid gray;box-sizing: border-box;top: 0;bottom: 0;left: 50%;z-index: 0;}#sk-container-id-1 div.sk-serial {display: flex;flex-direction: column;align-items: center;background-color: white;padding-right: 0.2em;padding-left: 0.2em;position: relative;}#sk-container-id-1 div.sk-item {position: relative;z-index: 1;}#sk-container-id-1 div.sk-parallel {display: flex;align-items: stretch;justify-content: center;background-color: white;position: relative;}#sk-container-id-1 div.sk-item::before, #sk-container-id-1 div.sk-parallel-item::before {content: \"\";position: absolute;border-left: 1px solid gray;box-sizing: border-box;top: 0;bottom: 0;left: 50%;z-index: -1;}#sk-container-id-1 div.sk-parallel-item {display: flex;flex-direction: column;z-index: 1;position: relative;background-color: white;}#sk-container-id-1 div.sk-parallel-item:first-child::after {align-self: flex-end;width: 50%;}#sk-container-id-1 div.sk-parallel-item:last-child::after {align-self: flex-start;width: 50%;}#sk-container-id-1 div.sk-parallel-item:only-child::after {width: 0;}#sk-container-id-1 div.sk-dashed-wrapped {border: 1px dashed gray;margin: 0 0.4em 0.5em 0.4em;box-sizing: border-box;padding-bottom: 0.4em;background-color: white;}#sk-container-id-1 div.sk-label label {font-family: monospace;font-weight: bold;display: inline-block;line-height: 1.2em;}#sk-container-id-1 div.sk-label-container {text-align: center;}#sk-container-id-1 div.sk-container {/* jupyter's `normalize.less` sets `[hidden] { display: none; }` but bootstrap.min.css set `[hidden] { display: none !important; }` so we also need the `!important` here to be able to override the default hidden behavior on the sphinx rendered scikit-learn.org. See: https://github.com/scikit-learn/scikit-learn/issues/21755 */display: inline-block !important;position: relative;}#sk-container-id-1 div.sk-text-repr-fallback {display: none;}</style><div id=\"sk-container-id-1\" class=\"sk-top-container\"><div class=\"sk-text-repr-fallback\"><pre>XGBClassifier(base_score=0.5, booster=&#x27;gbtree&#x27;, callbacks=None,\n",
              "              colsample_bylevel=1, colsample_bynode=1, colsample_bytree=1,\n",
              "              early_stopping_rounds=None, enable_categorical=False,\n",
              "              eval_metric=None, gamma=0, gpu_id=-1, grow_policy=&#x27;depthwise&#x27;,\n",
              "              importance_type=None, interaction_constraints=&#x27;&#x27;,\n",
              "              learning_rate=0.300000012, max_bin=256, max_cat_to_onehot=4,\n",
              "              max_delta_step=0, max_depth=6, max_leaves=0, min_child_weight=1,\n",
              "              missing=nan, monotone_constraints=&#x27;()&#x27;, n_estimators=100,\n",
              "              n_jobs=0, num_parallel_tree=1, predictor=&#x27;auto&#x27;, random_state=0,\n",
              "              reg_alpha=0, reg_lambda=1, ...)</pre><b>In a Jupyter environment, please rerun this cell to show the HTML representation or trust the notebook. <br />On GitHub, the HTML representation is unable to render, please try loading this page with nbviewer.org.</b></div><div class=\"sk-container\" hidden><div class=\"sk-item\"><div class=\"sk-estimator sk-toggleable\"><input class=\"sk-toggleable__control sk-hidden--visually\" id=\"sk-estimator-id-1\" type=\"checkbox\" checked><label for=\"sk-estimator-id-1\" class=\"sk-toggleable__label sk-toggleable__label-arrow\">XGBClassifier</label><div class=\"sk-toggleable__content\"><pre>XGBClassifier(base_score=0.5, booster=&#x27;gbtree&#x27;, callbacks=None,\n",
              "              colsample_bylevel=1, colsample_bynode=1, colsample_bytree=1,\n",
              "              early_stopping_rounds=None, enable_categorical=False,\n",
              "              eval_metric=None, gamma=0, gpu_id=-1, grow_policy=&#x27;depthwise&#x27;,\n",
              "              importance_type=None, interaction_constraints=&#x27;&#x27;,\n",
              "              learning_rate=0.300000012, max_bin=256, max_cat_to_onehot=4,\n",
              "              max_delta_step=0, max_depth=6, max_leaves=0, min_child_weight=1,\n",
              "              missing=nan, monotone_constraints=&#x27;()&#x27;, n_estimators=100,\n",
              "              n_jobs=0, num_parallel_tree=1, predictor=&#x27;auto&#x27;, random_state=0,\n",
              "              reg_alpha=0, reg_lambda=1, ...)</pre></div></div></div></div></div>"
            ]
          },
          "metadata": {},
          "execution_count": 5
        }
      ]
    },
    {
      "cell_type": "markdown",
      "source": [
        "### Multi-label model outputs do not match with Hummingbird"
      ],
      "metadata": {
        "id": "KM8VoeMzMy_e"
      },
      "id": "KM8VoeMzMy_e"
    },
    {
      "cell_type": "code",
      "source": [
        "clf.predict_proba(X)[:10, :]"
      ],
      "metadata": {
        "colab": {
          "base_uri": "https://localhost:8080/"
        },
        "id": "ceSHq6F_MRdY",
        "outputId": "9a0bf59d-bd82-4eeb-f76b-4a5a3d773abb"
      },
      "id": "ceSHq6F_MRdY",
      "execution_count": 6,
      "outputs": [
        {
          "output_type": "execute_result",
          "data": {
            "text/plain": [
              "array([[0.25477213, 0.08950111, 0.95902556, 0.9738694 , 0.9901391 ],\n",
              "       [0.97502327, 0.9958663 , 0.10001647, 0.9412866 , 0.00860851],\n",
              "       [0.00908493, 0.94113415, 0.09247999, 0.8853672 , 0.85925454],\n",
              "       [0.17950186, 0.02149026, 0.12937637, 0.11357188, 0.9932581 ],\n",
              "       [0.9783397 , 0.93622774, 0.97306305, 0.99218154, 0.9539664 ],\n",
              "       [0.20212294, 0.9115374 , 0.01526665, 0.7947902 , 0.00625833],\n",
              "       [0.93834007, 0.8063199 , 0.89752614, 0.94601154, 0.85123926],\n",
              "       [0.05156172, 0.9899775 , 0.13533044, 0.15330161, 0.01595211],\n",
              "       [0.01569671, 0.9366795 , 0.02338592, 0.08757982, 0.01937465],\n",
              "       [0.9899165 , 0.03310569, 0.9548131 , 0.9469307 , 0.09280243]],\n",
              "      dtype=float32)"
            ]
          },
          "metadata": {},
          "execution_count": 6
        }
      ]
    },
    {
      "cell_type": "code",
      "source": [
        "clf.n_classes_ = 5"
      ],
      "metadata": {
        "id": "fIbV07JQMoaT"
      },
      "id": "fIbV07JQMoaT",
      "execution_count": 7,
      "outputs": []
    },
    {
      "cell_type": "code",
      "source": [
        "import torch\n",
        "xgb_multi_label_torch = convert(clf, torch.jit.__name__, X[0:1])\n",
        "xgb_multi_label_torch.predict_proba(X)[:10, :]"
      ],
      "metadata": {
        "colab": {
          "base_uri": "https://localhost:8080/"
        },
        "id": "R3p2YuBIMP6X",
        "outputId": "665c1050-f913-4daf-d5c0-0116a3d2350e"
      },
      "id": "R3p2YuBIMP6X",
      "execution_count": 8,
      "outputs": [
        {
          "output_type": "execute_result",
          "data": {
            "text/plain": [
              "array([[2.11652205e-03, 6.08567381e-04, 1.44902527e-01, 2.30733797e-01,\n",
              "        6.21638656e-01],\n",
              "       [1.31838098e-01, 8.13613892e-01, 3.75316042e-04, 5.41433617e-02,\n",
              "        2.93253979e-05],\n",
              "       [3.06348986e-04, 5.34218729e-01, 3.40504339e-03, 2.58075029e-01,\n",
              "        2.03994885e-01],\n",
              "       [1.47975853e-03, 1.48551117e-04, 1.00513326e-03, 8.66617018e-04,\n",
              "        9.96499896e-01],\n",
              "       [1.85417593e-01, 6.02666251e-02, 1.48292542e-01, 5.20951748e-01,\n",
              "        8.50714743e-02],\n",
              "       [1.75282881e-02, 7.12975740e-01, 1.07271434e-03, 2.67987490e-01,\n",
              "        4.35757451e-04],\n",
              "       [2.96159863e-01, 8.10197964e-02, 1.70452133e-01, 3.41007501e-01,\n",
              "        1.11360654e-01],\n",
              "       [5.48124372e-04, 9.95884836e-01, 1.57799455e-03, 1.82548759e-03,\n",
              "        1.63441538e-04],\n",
              "       [1.06681348e-03, 9.89588380e-01, 1.60191499e-03, 6.42122235e-03,\n",
              "        1.32171984e-03],\n",
              "       [7.15110481e-01, 2.49408302e-04, 1.53919190e-01, 1.29975691e-01,\n",
              "        7.45151483e-04]], dtype=float32)"
            ]
          },
          "metadata": {},
          "execution_count": 8
        }
      ]
    },
    {
      "cell_type": "markdown",
      "source": [
        "## Let's extract the tree-ensemble corresponding to the first class"
      ],
      "metadata": {
        "id": "I5Rd3Q47M76A"
      },
      "id": "I5Rd3Q47M76A"
    },
    {
      "cell_type": "code",
      "source": [
        "clf._Booster.save_model(\"model.json\")"
      ],
      "metadata": {
        "id": "EAglAeFrf_5p"
      },
      "id": "EAglAeFrf_5p",
      "execution_count": 9,
      "outputs": []
    },
    {
      "cell_type": "code",
      "source": [
        "import json\n",
        "from copy import deepcopy\n",
        "model_json = json.load(open(\"model.json\"))"
      ],
      "metadata": {
        "id": "73LVGFD0hSc9"
      },
      "id": "73LVGFD0hSc9",
      "execution_count": 10,
      "outputs": []
    },
    {
      "cell_type": "code",
      "source": [
        "model_json_modified = deepcopy(model_json)"
      ],
      "metadata": {
        "id": "yToF5skG1zZa"
      },
      "id": "yToF5skG1zZa",
      "execution_count": 11,
      "outputs": []
    },
    {
      "cell_type": "code",
      "source": [
        "model_json_modified['learner']['learner_model_param']['num_target'] = '1'"
      ],
      "metadata": {
        "id": "xN2NNXJe2NYt"
      },
      "id": "xN2NNXJe2NYt",
      "execution_count": 12,
      "outputs": []
    },
    {
      "cell_type": "code",
      "source": [
        "model_json_modified['learner']['gradient_booster']['model']['trees'] = model_json_modified['learner']['gradient_booster']['model']['trees'][::5]"
      ],
      "metadata": {
        "id": "OIvpoUvs0bW-"
      },
      "id": "OIvpoUvs0bW-",
      "execution_count": 13,
      "outputs": []
    },
    {
      "cell_type": "code",
      "source": [
        "for i, tree in enumerate(model_json_modified['learner']['gradient_booster']['model']['trees']):\n",
        "  tree[\"id\"] = i"
      ],
      "metadata": {
        "id": "UZijpPgWGlxi"
      },
      "id": "UZijpPgWGlxi",
      "execution_count": 14,
      "outputs": []
    },
    {
      "cell_type": "code",
      "source": [
        "model_json_modified['learner']['gradient_booster']['model']['tree_info'] = model_json_modified['learner']['gradient_booster']['model']['tree_info'][::5]"
      ],
      "metadata": {
        "id": "LYrQY3hbCqO4"
      },
      "id": "LYrQY3hbCqO4",
      "execution_count": 15,
      "outputs": []
    },
    {
      "cell_type": "code",
      "source": [
        "model_json_modified['learner']['gradient_booster']['model']['gbtree_model_param']['num_trees'] = \"100\""
      ],
      "metadata": {
        "id": "ED_D6S7QDHtO"
      },
      "id": "ED_D6S7QDHtO",
      "execution_count": 16,
      "outputs": []
    },
    {
      "cell_type": "code",
      "source": [
        "json.dump(model_json_modified, open('modified.json', 'w'))"
      ],
      "metadata": {
        "id": "_WMGX7mnBsQl"
      },
      "id": "_WMGX7mnBsQl",
      "execution_count": 17,
      "outputs": []
    },
    {
      "cell_type": "code",
      "source": [
        "bst = xgb.Booster()"
      ],
      "metadata": {
        "id": "KSp_Gq-uB24g"
      },
      "id": "KSp_Gq-uB24g",
      "execution_count": 18,
      "outputs": []
    },
    {
      "cell_type": "code",
      "source": [
        "bst.load_model('modified.json')"
      ],
      "metadata": {
        "id": "ib8fIe3HCHxO"
      },
      "id": "ib8fIe3HCHxO",
      "execution_count": 19,
      "outputs": []
    },
    {
      "cell_type": "code",
      "source": [
        "from copy import copy"
      ],
      "metadata": {
        "id": "3xEr5gviHKTg"
      },
      "id": "3xEr5gviHKTg",
      "execution_count": 20,
      "outputs": []
    },
    {
      "cell_type": "code",
      "source": [
        "clf_modified = copy(clf)"
      ],
      "metadata": {
        "id": "Im6yOpmAG72A"
      },
      "id": "Im6yOpmAG72A",
      "execution_count": 21,
      "outputs": []
    },
    {
      "cell_type": "code",
      "source": [
        "clf_modified._Booster = bst"
      ],
      "metadata": {
        "id": "RrksTm4mHVgR"
      },
      "id": "RrksTm4mHVgR",
      "execution_count": 22,
      "outputs": []
    },
    {
      "cell_type": "code",
      "source": [
        "clf_modified.predict_proba(X)"
      ],
      "metadata": {
        "colab": {
          "base_uri": "https://localhost:8080/"
        },
        "id": "uqGMqxGuHYyC",
        "outputId": "9789bf4e-d1c0-4237-c3a2-c345960357c0"
      },
      "id": "uqGMqxGuHYyC",
      "execution_count": 23,
      "outputs": [
        {
          "output_type": "execute_result",
          "data": {
            "text/plain": [
              "array([[0.7452279 , 0.25477213],\n",
              "       [0.02497673, 0.97502327],\n",
              "       [0.99091506, 0.00908493],\n",
              "       [0.8204981 , 0.17950186],\n",
              "       [0.02166033, 0.9783397 ],\n",
              "       [0.7978771 , 0.20212294],\n",
              "       [0.06165993, 0.93834007],\n",
              "       [0.9484383 , 0.05156172],\n",
              "       [0.9843033 , 0.01569671],\n",
              "       [0.0100835 , 0.9899165 ],\n",
              "       [0.9890338 , 0.01096616],\n",
              "       [0.06005919, 0.9399408 ],\n",
              "       [0.1165427 , 0.8834573 ],\n",
              "       [0.14652663, 0.85347337],\n",
              "       [0.8990026 , 0.10099739],\n",
              "       [0.86152565, 0.13847438],\n",
              "       [0.12062764, 0.87937236],\n",
              "       [0.17292649, 0.8270735 ],\n",
              "       [0.04956883, 0.95043117],\n",
              "       [0.99713695, 0.00286302],\n",
              "       [0.91014534, 0.08985464],\n",
              "       [0.94596297, 0.05403705],\n",
              "       [0.1191988 , 0.8808012 ],\n",
              "       [0.01439768, 0.9856023 ],\n",
              "       [0.16040564, 0.83959436],\n",
              "       [0.04793268, 0.9520673 ],\n",
              "       [0.02277887, 0.97722113],\n",
              "       [0.95172095, 0.04827907],\n",
              "       [0.89401376, 0.10598624],\n",
              "       [0.0933488 , 0.9066512 ],\n",
              "       [0.05724645, 0.94275355],\n",
              "       [0.9626825 , 0.03731751]], dtype=float32)"
            ]
          },
          "metadata": {},
          "execution_count": 23
        }
      ]
    },
    {
      "cell_type": "code",
      "source": [
        "import torch\n",
        "xgb_binary_torch = convert(clf_modified, torch.jit.__name__, X[0:1])"
      ],
      "metadata": {
        "id": "pRjnEWEfHfpB"
      },
      "id": "pRjnEWEfHfpB",
      "execution_count": 24,
      "outputs": []
    },
    {
      "cell_type": "code",
      "source": [
        "xgb_binary_torch.predict_proba(X)"
      ],
      "metadata": {
        "colab": {
          "base_uri": "https://localhost:8080/"
        },
        "id": "g8PX8hQBJBMk",
        "outputId": "9cdaf7c0-7e8f-4c1c-f213-1ae8a6c26f00"
      },
      "id": "g8PX8hQBJBMk",
      "execution_count": 25,
      "outputs": [
        {
          "output_type": "execute_result",
          "data": {
            "text/plain": [
              "array([[0.17245093, 0.11759994, 0.22029638, 0.29277417, 0.1968785 ],\n",
              "       [0.21153326, 0.19167438, 0.26625878, 0.16708955, 0.16344412],\n",
              "       [0.14808714, 0.16080132, 0.26948294, 0.22198774, 0.19964083],\n",
              "       [0.2709387 , 0.11616985, 0.16330254, 0.19147317, 0.25811568],\n",
              "       [0.20385922, 0.14665441, 0.19042413, 0.18023069, 0.2788315 ],\n",
              "       [0.19204229, 0.1954951 , 0.28360337, 0.19104198, 0.13781719],\n",
              "       [0.20356159, 0.24536045, 0.20395206, 0.11526539, 0.23186055],\n",
              "       [0.27826074, 0.35039902, 0.14888671, 0.11388425, 0.10856932],\n",
              "       [0.20659919, 0.18250939, 0.21919002, 0.21249612, 0.17920524],\n",
              "       [0.21511345, 0.23887683, 0.16066569, 0.17032127, 0.2150228 ],\n",
              "       [0.17848054, 0.1393633 , 0.14974628, 0.21922404, 0.31318587],\n",
              "       [0.20481691, 0.28896272, 0.13574208, 0.22231963, 0.14815865],\n",
              "       [0.28875038, 0.17718267, 0.1281368 , 0.16213708, 0.24379306],\n",
              "       [0.21437815, 0.14727359, 0.20173058, 0.24808097, 0.18853663],\n",
              "       [0.1927056 , 0.24319994, 0.22727677, 0.13888432, 0.1979334 ],\n",
              "       [0.25205645, 0.14916635, 0.20419599, 0.20428881, 0.1902924 ],\n",
              "       [0.17006344, 0.20435034, 0.23749913, 0.15716717, 0.23092   ],\n",
              "       [0.23445502, 0.09583843, 0.26269093, 0.19340035, 0.21361528],\n",
              "       [0.17353778, 0.2138773 , 0.2186    , 0.12894042, 0.26504445],\n",
              "       [0.1397651 , 0.17159756, 0.18677388, 0.22395606, 0.2779074 ],\n",
              "       [0.2526043 , 0.15450531, 0.17274342, 0.21522984, 0.20491719],\n",
              "       [0.15120876, 0.25450587, 0.1946392 , 0.13833442, 0.26131174],\n",
              "       [0.21049881, 0.19106317, 0.1980299 , 0.21739106, 0.18301706],\n",
              "       [0.16628066, 0.26909047, 0.19391266, 0.22126138, 0.14945485],\n",
              "       [0.25166818, 0.23104893, 0.16247699, 0.19935335, 0.15545258],\n",
              "       [0.28906113, 0.16692951, 0.18525797, 0.19756831, 0.16118297],\n",
              "       [0.18963131, 0.18482828, 0.22876577, 0.12026525, 0.27650943],\n",
              "       [0.14695211, 0.18850936, 0.3199997 , 0.2003282 , 0.14421058],\n",
              "       [0.16989733, 0.27363122, 0.17108873, 0.19631621, 0.18906642],\n",
              "       [0.17859946, 0.28712016, 0.11695611, 0.23299988, 0.18432443],\n",
              "       [0.17597824, 0.26483354, 0.23967908, 0.15467188, 0.16483726],\n",
              "       [0.12194507, 0.21330316, 0.29309502, 0.22450575, 0.14715102]],\n",
              "      dtype=float32)"
            ]
          },
          "metadata": {},
          "execution_count": 25
        }
      ]
    },
    {
      "cell_type": "markdown",
      "source": [
        "## Now they match on the probability outputs corresponding to class-1"
      ],
      "metadata": {
        "id": "7FCUxW-INFSf"
      },
      "id": "7FCUxW-INFSf"
    },
    {
      "cell_type": "code",
      "source": [
        "xgb_binary_torch.predict_proba(X)[:, [1]] # this is a binary classifier, so we have to use the second column corresponding to prob-class-true."
      ],
      "metadata": {
        "colab": {
          "base_uri": "https://localhost:8080/"
        },
        "id": "YNk1M0v7NEdJ",
        "outputId": "eac9c066-6746-4178-95e0-36bacec47e0a"
      },
      "id": "YNk1M0v7NEdJ",
      "execution_count": 26,
      "outputs": [
        {
          "output_type": "execute_result",
          "data": {
            "text/plain": [
              "array([[0.11759994],\n",
              "       [0.19167438],\n",
              "       [0.16080132],\n",
              "       [0.11616985],\n",
              "       [0.14665441],\n",
              "       [0.1954951 ],\n",
              "       [0.24536045],\n",
              "       [0.35039902],\n",
              "       [0.18250939],\n",
              "       [0.23887683],\n",
              "       [0.1393633 ],\n",
              "       [0.28896272],\n",
              "       [0.17718267],\n",
              "       [0.14727359],\n",
              "       [0.24319994],\n",
              "       [0.14916635],\n",
              "       [0.20435034],\n",
              "       [0.09583843],\n",
              "       [0.2138773 ],\n",
              "       [0.17159756],\n",
              "       [0.15450531],\n",
              "       [0.25450587],\n",
              "       [0.19106317],\n",
              "       [0.26909047],\n",
              "       [0.23104893],\n",
              "       [0.16692951],\n",
              "       [0.18482828],\n",
              "       [0.18850936],\n",
              "       [0.27363122],\n",
              "       [0.28712016],\n",
              "       [0.26483354],\n",
              "       [0.21330316]], dtype=float32)"
            ]
          },
          "metadata": {},
          "execution_count": 26
        }
      ]
    },
    {
      "cell_type": "code",
      "source": [
        "clf.predict_proba(X)[:, [0]]"
      ],
      "metadata": {
        "colab": {
          "base_uri": "https://localhost:8080/"
        },
        "id": "aJS6RtRYJDhp",
        "outputId": "9fc32cd3-888e-4879-dc25-067a987204e6"
      },
      "id": "aJS6RtRYJDhp",
      "execution_count": 27,
      "outputs": [
        {
          "output_type": "execute_result",
          "data": {
            "text/plain": [
              "array([[0.25477213],\n",
              "       [0.97502327],\n",
              "       [0.00908493],\n",
              "       [0.17950186],\n",
              "       [0.9783397 ],\n",
              "       [0.20212294],\n",
              "       [0.93834007],\n",
              "       [0.05156172],\n",
              "       [0.01569671],\n",
              "       [0.9899165 ],\n",
              "       [0.01096616],\n",
              "       [0.9399408 ],\n",
              "       [0.8834573 ],\n",
              "       [0.85347337],\n",
              "       [0.10099739],\n",
              "       [0.13847438],\n",
              "       [0.87937236],\n",
              "       [0.8270735 ],\n",
              "       [0.95043117],\n",
              "       [0.00286302],\n",
              "       [0.08985464],\n",
              "       [0.05403705],\n",
              "       [0.8808012 ],\n",
              "       [0.9856023 ],\n",
              "       [0.83959436],\n",
              "       [0.9520673 ],\n",
              "       [0.97722113],\n",
              "       [0.04827907],\n",
              "       [0.10598624],\n",
              "       [0.9066512 ],\n",
              "       [0.94275355],\n",
              "       [0.03731751]], dtype=float32)"
            ]
          },
          "metadata": {},
          "execution_count": 27
        }
      ]
    },
    {
      "cell_type": "code",
      "source": [],
      "metadata": {
        "id": "dLlqwQvvNTyi"
      },
      "id": "dLlqwQvvNTyi",
      "execution_count": 27,
      "outputs": []
    }
  ],
  "metadata": {
    "kernelspec": {
      "display_name": "Python 3",
      "language": "python",
      "name": "python3"
    },
    "language_info": {
      "codemirror_mode": {
        "name": "ipython",
        "version": 3
      },
      "file_extension": ".py",
      "mimetype": "text/x-python",
      "name": "python",
      "nbconvert_exporter": "python",
      "pygments_lexer": "ipython3",
      "version": "3.6.9"
    },
    "colab": {
      "provenance": [],
      "include_colab_link": true
    },
    "accelerator": "TPU",
    "gpuClass": "standard"
  },
  "nbformat": 4,
  "nbformat_minor": 5
}
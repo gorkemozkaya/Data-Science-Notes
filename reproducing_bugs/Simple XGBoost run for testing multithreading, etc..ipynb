{
 "cells": [
  {
   "cell_type": "markdown",
   "metadata": {},
   "source": [
    "The following simple XGBoost run with random data may help detect if the installed version of XGBoost has been compiled properly\n",
    "for multithreading.  After running it, one may check the CPU usage from the operating system to verify that it is utilizing all available cores. "
   ]
  },
  {
   "cell_type": "code",
   "execution_count": 1,
   "metadata": {
    "collapsed": false
   },
   "outputs": [
    {
     "name": "stdout",
     "output_type": "stream",
     "text": [
      "[1]\ttrain-rmse:1.050906+0.002460\ttest-rmse:1.077504+0.004916 \n",
      "[2]\ttrain-rmse:1.005253+0.003375\ttest-rmse:1.050857+0.004916 \n",
      "[3]\ttrain-rmse:0.965680+0.003511\ttest-rmse:1.040675+0.004821 \n",
      "[4]\ttrain-rmse:0.942038+0.001145\ttest-rmse:1.036049+0.005128 \n",
      "[5]\ttrain-rmse:0.914827+0.001673\ttest-rmse:1.036211+0.006514 \n",
      "[6]\ttrain-rmse:0.897244+0.005986\ttest-rmse:1.036475+0.005648 \n",
      "[7]\ttrain-rmse:0.880724+0.007804\ttest-rmse:1.036787+0.005627 \n",
      "[8]\ttrain-rmse:0.860708+0.005688\ttest-rmse:1.037694+0.006648 \n",
      "[9]\ttrain-rmse:0.841729+0.007856\ttest-rmse:1.039541+0.007441 \n",
      "[10]\ttrain-rmse:0.824088+0.012314\ttest-rmse:1.043317+0.008789 \n",
      "[11]\ttrain-rmse:0.809758+0.011337\ttest-rmse:1.044756+0.008608 \n",
      "[12]\ttrain-rmse:0.790492+0.012353\ttest-rmse:1.047229+0.008684 \n",
      "[13]\ttrain-rmse:0.776533+0.008717\ttest-rmse:1.049833+0.007370 \n",
      "[14]\ttrain-rmse:0.761445+0.006719\ttest-rmse:1.050974+0.007972 \n",
      "[15]\ttrain-rmse:0.746716+0.004487\ttest-rmse:1.054593+0.007842 \n",
      "[16]\ttrain-rmse:0.737439+0.003300\ttest-rmse:1.055360+0.007098 \n",
      "[17]\ttrain-rmse:0.730478+0.001963\ttest-rmse:1.056337+0.006047 \n",
      "[18]\ttrain-rmse:0.720111+0.005117\ttest-rmse:1.057085+0.006260 \n",
      "[19]\ttrain-rmse:0.706881+0.006668\ttest-rmse:1.058777+0.005766 \n",
      "[20]\ttrain-rmse:0.696076+0.006931\ttest-rmse:1.059776+0.004879 \n",
      "[21]\ttrain-rmse:0.687035+0.008947\ttest-rmse:1.061161+0.005186 \n",
      "[22]\ttrain-rmse:0.673848+0.007193\ttest-rmse:1.062516+0.004756 \n",
      "[23]\ttrain-rmse:0.659367+0.006948\ttest-rmse:1.064466+0.004672 \n",
      "[24]\ttrain-rmse:0.648472+0.007171\ttest-rmse:1.066070+0.003488 \n",
      "[25]\ttrain-rmse:0.636119+0.010137\ttest-rmse:1.068134+0.003451 \n",
      "[26]\ttrain-rmse:0.625119+0.011412\ttest-rmse:1.069358+0.003782 \n",
      "[27]\ttrain-rmse:0.616976+0.014048\ttest-rmse:1.069828+0.003222 \n",
      "[28]\ttrain-rmse:0.603489+0.014026\ttest-rmse:1.071973+0.003312 \n",
      "[29]\ttrain-rmse:0.595022+0.013246\ttest-rmse:1.073173+0.003208 \n",
      "[30]\ttrain-rmse:0.586194+0.014884\ttest-rmse:1.075089+0.003427 \n",
      "[31]\ttrain-rmse:0.577457+0.014189\ttest-rmse:1.075184+0.003243 \n",
      "[32]\ttrain-rmse:0.569155+0.010525\ttest-rmse:1.076176+0.002932 \n",
      "[33]\ttrain-rmse:0.562909+0.011320\ttest-rmse:1.076814+0.001810 \n",
      "[34]\ttrain-rmse:0.550359+0.009396\ttest-rmse:1.077465+0.002721 \n",
      "[35]\ttrain-rmse:0.538558+0.013970\ttest-rmse:1.079091+0.003194 \n",
      "[36]\ttrain-rmse:0.531599+0.015935\ttest-rmse:1.079466+0.003228 \n",
      "[37]\ttrain-rmse:0.525826+0.017011\ttest-rmse:1.079574+0.003307 \n",
      "[38]\ttrain-rmse:0.520267+0.017723\ttest-rmse:1.079986+0.002814 \n",
      "[39]\ttrain-rmse:0.514282+0.015843\ttest-rmse:1.080042+0.002671 \n",
      "[40]\ttrain-rmse:0.508652+0.013898\ttest-rmse:1.080372+0.002852 \n",
      "[41]\ttrain-rmse:0.498290+0.015703\ttest-rmse:1.081237+0.003093 \n",
      "[42]\ttrain-rmse:0.492439+0.016592\ttest-rmse:1.081335+0.002984 \n",
      "[43]\ttrain-rmse:0.486428+0.016174\ttest-rmse:1.082006+0.003063 \n",
      "[44]\ttrain-rmse:0.479485+0.017380\ttest-rmse:1.082482+0.002965 \n",
      "[45]\ttrain-rmse:0.473530+0.017387\ttest-rmse:1.082660+0.002856 \n",
      "[46]\ttrain-rmse:0.466145+0.013858\ttest-rmse:1.083380+0.002944 \n",
      "[47]\ttrain-rmse:0.459283+0.013595\ttest-rmse:1.083398+0.003311 \n",
      "[48]\ttrain-rmse:0.450294+0.013478\ttest-rmse:1.084362+0.003433 \n",
      "[49]\ttrain-rmse:0.442278+0.015481\ttest-rmse:1.085011+0.003268 \n",
      "[50]\ttrain-rmse:0.432734+0.016744\ttest-rmse:1.085637+0.002920 \n"
     ]
    }
   ],
   "source": [
    "library(xgboost)\n",
    "\n",
    "dtrain <- xgb.DMatrix(matrix(rnorm(10^7), 10^4), label=rnorm(10^4))\n",
    "params <- list(obj=\"reg:linear\")\n",
    "                      \n",
    "xgb.cv(params=params, data=dtrain, nrounds=50, nfold=3)"
   ]
  }
 ],
 "metadata": {
  "anaconda-cloud": {},
  "kernelspec": {
   "display_name": "R",
   "language": "R",
   "name": "ir"
  },
  "language_info": {
   "codemirror_mode": "r",
   "file_extension": ".r",
   "mimetype": "text/x-r-source",
   "name": "R",
   "pygments_lexer": "r",
   "version": "3.3.2"
  }
 },
 "nbformat": 4,
 "nbformat_minor": 1
}
